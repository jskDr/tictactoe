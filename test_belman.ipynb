{
 "cells": [
  {
   "cell_type": "code",
   "execution_count": null,
   "metadata": {},
   "outputs": [],
   "source": [
    "%load_ext autoreload\n",
    "%autoreload 2\n",
    "\n",
    "#import numba\n",
    "import tictactoe"
   ]
  },
  {
   "cell_type": "code",
   "execution_count": 2,
   "metadata": {},
   "outputs": [
    {
     "data": {
      "text/plain": [
       "[[0],\n",
       " [0, 1],\n",
       " [0, 1, 2],\n",
       " [0, 2],\n",
       " [0, 2, 1],\n",
       " [1],\n",
       " [1, 0],\n",
       " [1, 0, 2],\n",
       " [1, 2],\n",
       " [1, 2, 0],\n",
       " [2],\n",
       " [2, 0],\n",
       " [2, 0, 1],\n",
       " [2, 1],\n",
       " [2, 1, 0]]"
      ]
     },
     "execution_count": 2,
     "metadata": {},
     "output_type": "execute_result"
    }
   ],
   "source": [
    "tictactoe.generate_action_list()"
   ]
  },
  {
   "cell_type": "code",
   "execution_count": 3,
   "metadata": {},
   "outputs": [
    {
     "name": "stdout",
     "output_type": "stream",
     "text": [
      "-----------------------\n",
      "S: [1 2 1 2 0 0 0 0 0]  with action:  4  in  [0, 1, 2, 3]\n",
      "Sa: [1 2 1 2 1 0 0 0 0]\n",
      "[Returns]\n",
      "E_R = 0.0, E_V_Saa = 0.0\n",
      "-----------------------\n",
      "S: [1 2 1 2 0 0 0 0 0]  with action:  5  in  [0, 1, 2, 3]\n",
      "Sa: [1 2 1 2 0 1 0 0 0]\n",
      "[Returns]\n",
      "E_R = 0.0, E_V_Saa = 0.0\n",
      "-----------------------\n",
      "S: [1 2 1 2 0 0 0 0 0]  with action:  6  in  [0, 1, 2, 3]\n",
      "Sa: [1 2 1 2 0 0 1 0 0]\n",
      "[Returns]\n",
      "E_R = 0.0, E_V_Saa = 0.0\n",
      "-----------------------\n",
      "S: [1 2 1 2 0 0 0 0 0]  with action:  7  in  [0, 1, 2, 3]\n",
      "Sa: [1 2 1 2 0 0 0 1 0]\n",
      "[Returns]\n",
      "E_R = 0.0, E_V_Saa = 0.0\n",
      "-----------------------\n",
      "S: [1 2 1 2 0 0 0 0 0]  with action:  8  in  [0, 1, 2, 3]\n",
      "Sa: [1 2 1 2 0 0 0 0 1]\n",
      "[Returns]\n",
      "E_R = 0.0, E_V_Saa = 0.0\n"
     ]
    }
   ],
   "source": [
    "bellman = tictactoe.Bellman()\n",
    "bellman.update([0,1,2,3],max_actions=4,disp_flag=False)"
   ]
  },
  {
   "cell_type": "code",
   "execution_count": 11,
   "metadata": {},
   "outputs": [
    {
     "name": "stdout",
     "output_type": "stream",
     "text": [
      "-----------------------\n",
      "S: [1 1 2 2 2 0 0 0 1]  with action:  5  based on  [0, 3, 1, 4, 8, 2]\n",
      "Sa: [1 1 2 2 2 1 0 0 1]\n",
      "[Returns]\n",
      "E_R = 0.0, E_V_Saa = 0.0\n",
      "-----------------------\n",
      "S: [1 1 2 2 2 0 0 0 1]  with action:  6  based on  [0, 3, 1, 4, 8, 2]\n",
      "Sa: [1 1 2 2 2 0 1 0 1]\n",
      "[Returns]\n",
      "E_R = 0.0, E_V_Saa = 0.0\n",
      "-----------------------\n",
      "S: [1 1 2 2 2 0 0 0 1]  with action:  7  based on  [0, 3, 1, 4, 8, 2]\n",
      "Sa: [1 1 2 2 2 0 0 1 1]\n",
      "[Returns]\n",
      "E_R = 0.0, E_V_Saa = 0.0\n",
      "Player 2 wins with Sa, action_list and done [1 1 0 2 2 2 0 0 1] [0, 3, 1, 4, 8, 5] True\n",
      "-----------------------\n",
      "S: [1 1 0 2 2 0 2 0 1]  with action:  2  based on  [0, 3, 1, 4, 8, 6]\n",
      "Sa: [1 1 1 2 2 0 2 0 1]\n",
      "[Returns]\n",
      "E_R = 1.0, E_V_Saa = 0.0\n",
      "-----------------------\n",
      "S: [1 1 0 2 2 0 2 0 1]  with action:  5  based on  [0, 3, 1, 4, 8, 6]\n",
      "Sa: [1 1 0 2 2 1 2 0 1]\n",
      "[Returns]\n",
      "E_R = 0.0, E_V_Saa = 0.0\n",
      "-----------------------\n",
      "S: [1 1 0 2 2 0 2 0 1]  with action:  7  based on  [0, 3, 1, 4, 8, 6]\n",
      "Sa: [1 1 0 2 2 0 2 1 1]\n",
      "[Returns]\n",
      "E_R = 0.0, E_V_Saa = 0.0\n",
      "-----------------------\n",
      "S: [1 1 0 2 2 0 0 2 1]  with action:  2  based on  [0, 3, 1, 4, 8, 7]\n",
      "Sa: [1 1 1 2 2 0 0 2 1]\n",
      "[Returns]\n",
      "E_R = 1.0, E_V_Saa = 0.0\n",
      "-----------------------\n",
      "S: [1 1 0 2 2 0 0 2 1]  with action:  5  based on  [0, 3, 1, 4, 8, 7]\n",
      "Sa: [1 1 0 2 2 1 0 2 1]\n",
      "[Returns]\n",
      "E_R = 0.0, E_V_Saa = 0.0\n",
      "-----------------------\n",
      "S: [1 1 0 2 2 0 0 2 1]  with action:  6  based on  [0, 3, 1, 4, 8, 7]\n",
      "Sa: [1 1 0 2 2 0 1 2 1]\n",
      "[Returns]\n",
      "E_R = 0.0, E_V_Saa = 0.0\n"
     ]
    }
   ],
   "source": [
    "bellman = tictactoe.Bellman()\n",
    "bellman.update([0,3,1,4,8],max_actions=6,disp_flag=False)"
   ]
  },
  {
   "cell_type": "code",
   "execution_count": null,
   "metadata": {},
   "outputs": [],
   "source": []
  }
 ],
 "metadata": {
  "kernelspec": {
   "display_name": "tf2",
   "language": "python",
   "name": "tf2"
  },
  "language_info": {
   "codemirror_mode": {
    "name": "ipython",
    "version": 3
   },
   "file_extension": ".py",
   "mimetype": "text/x-python",
   "name": "python",
   "nbconvert_exporter": "python",
   "pygments_lexer": "ipython3",
   "version": "3.7.4"
  }
 },
 "nbformat": 4,
 "nbformat_minor": 4
}
