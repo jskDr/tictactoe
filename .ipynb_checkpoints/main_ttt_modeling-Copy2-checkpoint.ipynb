{
 "cells": [
  {
   "cell_type": "code",
   "execution_count": 80,
   "metadata": {},
   "outputs": [
    {
     "name": "stdout",
     "output_type": "stream",
     "text": [
      "The autoreload extension is already loaded. To reload it, use:\n",
      "  %reload_ext autoreload\n"
     ]
    }
   ],
   "source": [
    "%load_ext autoreload\n",
    "%autoreload 2\n",
    "import tictactoe as ttt\n",
    "import numpy as np"
   ]
  },
  {
   "cell_type": "code",
   "execution_count": 82,
   "metadata": {},
   "outputs": [
    {
     "name": "stdout",
     "output_type": "stream",
     "text": [
      "\n",
      "== Start TicTacToe Aget Framework ==\n",
      "- Developed by Sungjin Kim, 2020\n",
      "\n",
      "0) Playing a game\n",
      "1) Learning a new agent\n",
      "2) Testing code\n",
      "3) Modeling\n"
     ]
    },
    {
     "name": "stdin",
     "output_type": "stream",
     "text": [
      "What do you want? (0=deafult)  3\n"
     ]
    },
    {
     "name": "stdout",
     "output_type": "stream",
     "text": [
      "\n",
      "------------------------------\n",
      "Start to model the playing system\n",
      "\n"
     ]
    },
    {
     "name": "stdin",
     "output_type": "stream",
     "text": [
      "How many episode do you want for modeling?(default=10000)  100000\n"
     ]
    },
    {
     "name": "stdout",
     "output_type": "stream",
     "text": [
      "\n",
      "Checking modeling results\n"
     ]
    },
    {
     "name": "stdin",
     "output_type": "stream",
     "text": [
      "Enter State vector (S)?(defulat=[0,0,0,0,0,0,0,0,0])  \n",
      "Enter action?(defulat=0)  \n"
     ]
    },
    {
     "name": "stdout",
     "output_type": "stream",
     "text": [
      "N_Model[0,:] =  [11124 11065 10990 11100 11328 11183 10990 11123 11097]\n",
      "Model_R[0,:] =  [0.0, 0.0, 0.0, 0.0, 0.0, 0.0, 0.0, 0.0, 0.0]\n",
      "Model_P[0,0,:] =  [0.0, 0.12432578209277238, 0.12450557353469975, 0.1302588996763754, 0.1307083782811938, 0.12315713772024452, 0.11740381157856886, 0.12918015102481123, 0.12046026609133405]\n",
      "Model_Done1[0,:] =  [0.0, 0.0, 0.0, 0.0, 0.0, 0.0, 0.0, 0.0, 0.0]\n",
      "Model_Done2[0,0,:] =  [0.0, 0.0, 0.0, 0.0, 0.0, 0.0, 0.0, 0.0, 0.0]\n"
     ]
    },
    {
     "name": "stdin",
     "output_type": "stream",
     "text": [
      "Quit=0 or test again=1?(defalut=0)  1\n",
      "Enter State vector (S)?(defulat=[0,0,0,0,0,0,0,0,0])  [1,1,0, 2,2,0, 0,0,0]\n",
      "Enter action?(defulat=0)  8\n"
     ]
    },
    {
     "name": "stdout",
     "output_type": "stream",
     "text": [
      "N_Model[220,:] =  [ 0  0 14  0  0 33 26 30 24]\n",
      "Model_R[220,:] =  [0.0, 0.0, 1.0, 0.0, 0.0, 0.0, 0.0, 0.0, 0.0]\n",
      "Model_P[220,8,:] =  [0.0, 0.0, 0.16666666666666666, 0.0, 0.0, 0.375, 0.2916666666666667, 0.16666666666666666, 0.0]\n",
      "Model_Done1[220,:] =  [0.0, 0.0, 1.0, 0.0, 0.0, 0.0, 0.15384615384615385, 0.1, 0.375]\n",
      "Model_Done2[220,8,:] =  [0.0, 0.0, 0.0, 0.0, 0.0, 1.0, 0.0, 0.0, 0.0]\n"
     ]
    },
    {
     "name": "stdin",
     "output_type": "stream",
     "text": [
      "Quit=0 or test again=1?(defalut=0)  0\n"
     ]
    }
   ],
   "source": [
    "ttt.main()"
   ]
  },
  {
   "cell_type": "code",
   "execution_count": null,
   "metadata": {},
   "outputs": [],
   "source": []
  }
 ],
 "metadata": {
  "kernelspec": {
   "display_name": "tf2",
   "language": "python",
   "name": "tf2"
  },
  "language_info": {
   "codemirror_mode": {
    "name": "ipython",
    "version": 3
   },
   "file_extension": ".py",
   "mimetype": "text/x-python",
   "name": "python",
   "nbconvert_exporter": "python",
   "pygments_lexer": "ipython3",
   "version": "3.7.7"
  }
 },
 "nbformat": 4,
 "nbformat_minor": 4
}
