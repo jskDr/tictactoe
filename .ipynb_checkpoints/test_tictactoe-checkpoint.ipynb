{
 "cells": [
  {
   "cell_type": "code",
   "execution_count": 8,
   "metadata": {},
   "outputs": [
    {
     "name": "stdout",
     "output_type": "stream",
     "text": [
      "The autoreload extension is already loaded. To reload it, use:\n",
      "  %reload_ext autoreload\n"
     ]
    }
   ],
   "source": [
    "%load_ext autoreload\n",
    "%autoreload 2\n",
    "\n",
    "#import numba\n",
    "import tictactoe"
   ]
  },
  {
   "cell_type": "code",
   "execution_count": 11,
   "metadata": {},
   "outputs": [],
   "source": [
    "ff = 0.9\n",
    "lr = 0.01\n",
    "N_episodes = 2\n",
    "N_Symbols = 3 # 0=empty, 1=plyaer1, 2=player2\n",
    "N_A = 9 # (0,0), (0,1), ..., (2,2)\n",
    "\n",
    "my_Q_System = tictactoe.Q_System(N_A, N_Symbols)"
   ]
  },
  {
   "cell_type": "code",
   "execution_count": 13,
   "metadata": {},
   "outputs": [
    {
     "name": "stdout",
     "output_type": "stream",
     "text": [
      "[0]\n",
      "[1]\n",
      "[2]\n",
      "[3]\n",
      "[4]\n",
      "[5]\n",
      "[6]\n",
      "[7]\n",
      "[8]\n"
     ]
    }
   ],
   "source": [
    "for i, stack in enumerate(my_Q_System.yield_all_possible_ttt_states()):\n",
    "    print(stack)\n",
    "    if i > 20: break"
   ]
  },
  {
   "cell_type": "code",
   "execution_count": 15,
   "metadata": {},
   "outputs": [
    {
     "name": "stdout",
     "output_type": "stream",
     "text": [
      "[0]\n",
      "[1]\n",
      "[2]\n"
     ]
    }
   ],
   "source": [
    "for stack in tictactoe.yield_all_states():\n",
    "    print(stack)"
   ]
  },
  {
   "cell_type": "code",
   "execution_count": 16,
   "metadata": {},
   "outputs": [
    {
     "name": "stdout",
     "output_type": "stream",
     "text": [
      "[0]\n",
      "[0, 1]\n",
      "[0, 1, 2]\n",
      "[0, 2]\n",
      "[0, 2, 1]\n",
      "[1]\n",
      "[1, 0]\n",
      "[1, 0, 2]\n",
      "[1, 2]\n",
      "[1, 2, 0]\n",
      "[2]\n",
      "[2, 0]\n",
      "[2, 0, 1]\n",
      "[2, 1]\n",
      "[2, 1, 0]\n"
     ]
    }
   ],
   "source": [
    "tictactoe.generate_all_states()"
   ]
  },
  {
   "cell_type": "code",
   "execution_count": 20,
   "metadata": {},
   "outputs": [
    {
     "name": "stdout",
     "output_type": "stream",
     "text": [
      "out [0]\n",
      "[0, 1]\n",
      "[0, 1, 2]\n",
      "[0, 2]\n",
      "[0, 2, 1]\n",
      "out [1]\n",
      "[1, 0]\n",
      "[1, 0, 2]\n",
      "[1, 2]\n",
      "[1, 2, 0]\n",
      "out [2]\n",
      "[2, 0]\n",
      "[2, 0, 1]\n",
      "[2, 1]\n",
      "[2, 1, 0]\n"
     ]
    }
   ],
   "source": [
    "for stack in tictactoe.yield_gen_all_states():\n",
    "    print('out', stack)"
   ]
  }
 ],
 "metadata": {
  "kernelspec": {
   "display_name": "tf2",
   "language": "python",
   "name": "tf2"
  },
  "language_info": {
   "codemirror_mode": {
    "name": "ipython",
    "version": 3
   },
   "file_extension": ".py",
   "mimetype": "text/x-python",
   "name": "python",
   "nbconvert_exporter": "python",
   "pygments_lexer": "ipython3",
   "version": "3.7.4"
  }
 },
 "nbformat": 4,
 "nbformat_minor": 4
}
