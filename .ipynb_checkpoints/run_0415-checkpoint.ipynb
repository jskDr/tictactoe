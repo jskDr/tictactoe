{
 "cells": [
  {
   "cell_type": "code",
   "execution_count": 1,
   "metadata": {},
   "outputs": [],
   "source": [
    "%load_ext autoreload\n",
    "%autoreload 2\n",
    "import tictactoe"
   ]
  },
  {
   "cell_type": "code",
   "execution_count": null,
   "metadata": {},
   "outputs": [
    {
     "name": "stdout",
     "output_type": "stream",
     "text": [
      "\n",
      "== Start TicTacToe Aget Framework ==\n",
      "- Developed by Sungjin Kim, 2020\n",
      "\n",
      "0) Playing a game\n",
      "1) Learning a new agent\n",
      "2) Testing code\n"
     ]
    },
    {
     "name": "stdin",
     "output_type": "stream",
     "text": [
      "What do you want? (0=deafult)  1\n"
     ]
    },
    {
     "name": "stdout",
     "output_type": "stream",
     "text": [
      "\n",
      "------------------------------\n",
      "Start to learn a new agent...\n",
      "\n"
     ]
    },
    {
     "name": "stdin",
     "output_type": "stream",
     "text": [
      "How many episode do you want to learn?(default=10000)  \n"
     ]
    },
    {
     "name": "stdout",
     "output_type": "stream",
     "text": [
      "\n"
     ]
    },
    {
     "name": "stdin",
     "output_type": "stream",
     "text": [
      "What is initial Epsilon for exploration?(default=0.4)  \n",
      "What is second Epsilon for exploration?(default=0.1)  \n",
      "What episode do you want to change Epsilon?(default=2000)  \n",
      "Which type of a computer agent do you want to play with?(default=0:random, 1:advanced, 2:premium)  2\n"
     ]
    },
    {
     "name": "stdout",
     "output_type": "stream",
     "text": [
      "\n",
      "0) MC Backup with e-Greedy\n",
      "1) Q-learning\n",
      "2) Q-learning with variable esplison\n",
      "3) DQN with variable esplison\n",
      "4) CNN-DQN with variable esplison\n"
     ]
    },
    {
     "name": "stdin",
     "output_type": "stream",
     "text": [
      "What learning method do you want to use?(0=default)  4\n"
     ]
    },
    {
     "name": "stdout",
     "output_type": "stream",
     "text": [
      "WARNING:tensorflow:Layer cnn_agent_2 is casting an input tensor from dtype float64 to the layer's dtype of float32, which is new behavior in TensorFlow 2.  The layer has dtype float32 because it's dtype defaults to floatx.\n",
      "\n",
      "If you intended to run this layer in float32, you can safely ignore this warning. If in doubt, this warning is likely only an issue if you are porting a TensorFlow 1.X model to TensorFlow 2.\n",
      "\n",
      "To change all layers to have dtype float64 by default, call `tf.keras.backend.set_floatx('float64')`. To change just this layer, pass dtype='float64' to the layer constructor. If you are the author of this layer, you can disable autocasting by passing autocast=False to the base Layer constructor.\n",
      "\n",
      "WARNING:tensorflow:Layer cnn_agent_3 is casting an input tensor from dtype float64 to the layer's dtype of float32, which is new behavior in TensorFlow 2.  The layer has dtype float32 because it's dtype defaults to floatx.\n",
      "\n",
      "If you intended to run this layer in float32, you can safely ignore this warning. If in doubt, this warning is likely only an issue if you are porting a TensorFlow 1.X model to TensorFlow 2.\n",
      "\n",
      "To change all layers to have dtype float64 by default, call `tf.keras.backend.set_floatx('float64')`. To change just this layer, pass dtype='float64' to the layer constructor. If you are the author of this layer, you can disable autocasting by passing autocast=False to the base Layer constructor.\n",
      "\n",
      "WARNING:tensorflow:Layer cnn_agent is casting an input tensor from dtype float64 to the layer's dtype of float32, which is new behavior in TensorFlow 2.  The layer has dtype float32 because it's dtype defaults to floatx.\n",
      "\n",
      "If you intended to run this layer in float32, you can safely ignore this warning. If in doubt, this warning is likely only an issue if you are porting a TensorFlow 1.X model to TensorFlow 2.\n",
      "\n",
      "To change all layers to have dtype float64 by default, call `tf.keras.backend.set_floatx('float64')`. To change just this layer, pass dtype='float64' to the layer constructor. If you are the author of this layer, you can disable autocasting by passing autocast=False to the base Layer constructor.\n",
      "\n",
      "\n",
      "Finished episode: # 0\n",
      "cnt:  [0, 0, 1, 0, 1, 0, 0, 0, 1]\n",
      "Play order:1, P_no:1\n",
      "S = [0,0,0, 0,0,0, 0,0,0]\n",
      "WARNING:tensorflow:Layer cnn_agent_1 is casting an input tensor from dtype float64 to the layer's dtype of float32, which is new behavior in TensorFlow 2.  The layer has dtype float32 because it's dtype defaults to floatx.\n",
      "\n",
      "If you intended to run this layer in float32, you can safely ignore this warning. If in doubt, this warning is likely only an issue if you are porting a TensorFlow 1.X model to TensorFlow 2.\n",
      "\n",
      "To change all layers to have dtype float64 by default, call `tf.keras.backend.set_floatx('float64')`. To change just this layer, pass dtype='float64' to the layer constructor. If you are the author of this layer, you can disable autocasting by passing autocast=False to the base Layer constructor.\n",
      "\n",
      "Qsa[0][0,:] ['-1.1e-03', '3.0e-02', '-2.3e-02', '4.6e-02', '2.1e-02', '1.7e-02', '4.2e-03', '-1.7e-01', '-1.9e-01']\n",
      "Qsa[1][0,:] ['3.3e-02', '-5.3e-02', '-2.2e-02', '-2.4e-02', '1.2e-01', '1.5e-01', '5.5e-02', '1.3e-01', '1.5e-01']\n",
      "Exproration: Epsilon= 0.4\n",
      "\n",
      "Finished episode: # 1000\n",
      "cnt:  [414, 34, 553, 429, 158, 31, 3, 398, 155]\n",
      "Play order:1, P_no:1\n",
      "S = [0,0,0, 0,0,0, 0,0,0]\n",
      "Qsa[0][0,:] ['1.8e-01', '1.6e-01', '1.6e-01', '1.4e-01', '2.7e-01', '1.9e-01', '1.6e-01', '1.8e-01', '1.7e-01']\n",
      "Qsa[1][0,:] ['3.3e-02', '-5.3e-02', '-2.2e-02', '-2.4e-02', '1.2e-01', '1.5e-01', '5.5e-02', '1.3e-01', '1.5e-01']\n",
      "Exproration: Epsilon= 0.4\n",
      "\n",
      "Finished episode: # 2000\n",
      "cnt:  [972, 68, 961, 759, 270, 64, 4, 695, 266]\n",
      "Play order:1, P_no:1\n",
      "S = [0,0,0, 0,0,0, 0,0,0]\n",
      "Qsa[0][0,:] ['1.9e-01', '1.7e-01', '1.5e-01', '1.6e-01', '2.1e-01', '1.8e-01', '1.7e-01', '1.5e-01', '1.8e-01']\n",
      "Qsa[1][0,:] ['3.3e-02', '-5.3e-02', '-2.2e-02', '-2.4e-02', '1.2e-01', '1.5e-01', '5.5e-02', '1.3e-01', '1.5e-01']\n",
      "Exproration: Epsilon= 0.1\n",
      "\n",
      "Finished episode: # 3000\n",
      "cnt:  [1769, 85, 1147, 923, 309, 81, 4, 842, 305]\n",
      "Play order:1, P_no:1\n",
      "S = [0,0,0, 0,0,0, 0,0,0]\n",
      "Qsa[0][0,:] ['2.7e-01', '2.5e-01', '2.6e-01', '2.4e-01', '3.6e-01', '2.6e-01', '2.3e-01', '2.6e-01', '2.9e-01']\n",
      "Qsa[1][0,:] ['3.3e-02', '-5.3e-02', '-2.2e-02', '-2.4e-02', '1.2e-01', '1.5e-01', '5.5e-02', '1.3e-01', '1.5e-01']\n",
      "Exproration: Epsilon= 0.1\n",
      "\n",
      "Finished episode: # 4000\n",
      "cnt:  [2576, 105, 1320, 1088, 337, 99, 6, 989, 331]\n",
      "Play order:1, P_no:1\n",
      "S = [0,0,0, 0,0,0, 0,0,0]\n",
      "Qsa[0][0,:] ['2.3e-01', '2.0e-01', '2.3e-01', '2.3e-01', '3.0e-01', '2.4e-01', '1.9e-01', '2.5e-01', '2.3e-01']\n",
      "Qsa[1][0,:] ['3.3e-02', '-5.3e-02', '-2.2e-02', '-2.4e-02', '1.2e-01', '1.5e-01', '5.5e-02', '1.3e-01', '1.5e-01']\n",
      "Exproration: Epsilon= 0.1\n",
      "\n",
      "Finished episode: # 5000\n",
      "cnt:  [3401, 125, 1475, 1234, 366, 119, 6, 1115, 360]\n",
      "Play order:1, P_no:1\n",
      "S = [0,0,0, 0,0,0, 0,0,0]\n",
      "Qsa[0][0,:] ['2.6e-01', '2.3e-01', '2.8e-01', '2.3e-01', '3.4e-01', '2.7e-01', '2.3e-01', '2.6e-01', '2.8e-01']\n",
      "Qsa[1][0,:] ['3.3e-02', '-5.3e-02', '-2.2e-02', '-2.4e-02', '1.2e-01', '1.5e-01', '5.5e-02', '1.3e-01', '1.5e-01']\n",
      "Exproration: Epsilon= 0.1\n",
      "\n",
      "Finished episode: # 6000\n",
      "cnt:  [4239, 139, 1623, 1371, 391, 133, 6, 1238, 385]\n",
      "Play order:1, P_no:1\n",
      "S = [0,0,0, 0,0,0, 0,0,0]\n",
      "Qsa[0][0,:] ['2.5e-01', '2.2e-01', '2.8e-01', '2.3e-01', '3.3e-01', '2.4e-01', '2.3e-01', '2.5e-01', '2.5e-01']\n",
      "Qsa[1][0,:] ['3.3e-02', '-5.3e-02', '-2.2e-02', '-2.4e-02', '1.2e-01', '1.5e-01', '5.5e-02', '1.3e-01', '1.5e-01']\n",
      "Exproration: Epsilon= 0.1\n",
      "\n",
      "Finished episode: # 7000\n",
      "cnt:  [5058, 157, 1786, 1525, 418, 151, 6, 1374, 412]\n",
      "Play order:1, P_no:1\n",
      "S = [0,0,0, 0,0,0, 0,0,0]\n",
      "Qsa[0][0,:] ['2.5e-01', '2.5e-01', '3.1e-01', '2.4e-01', '3.5e-01', '2.3e-01', '2.2e-01', '2.8e-01', '2.6e-01']\n",
      "Qsa[1][0,:] ['3.3e-02', '-5.3e-02', '-2.2e-02', '-2.4e-02', '1.2e-01', '1.5e-01', '5.5e-02', '1.3e-01', '1.5e-01']\n",
      "Exproration: Epsilon= 0.1\n"
     ]
    }
   ],
   "source": [
    "tictactoe.main()"
   ]
  },
  {
   "cell_type": "code",
   "execution_count": null,
   "metadata": {},
   "outputs": [],
   "source": []
  }
 ],
 "metadata": {
  "kernelspec": {
   "display_name": "tf2",
   "language": "python",
   "name": "tf2"
  },
  "language_info": {
   "codemirror_mode": {
    "name": "ipython",
    "version": 3
   },
   "file_extension": ".py",
   "mimetype": "text/x-python",
   "name": "python",
   "nbconvert_exporter": "python",
   "pygments_lexer": "ipython3",
   "version": "3.7.4"
  }
 },
 "nbformat": 4,
 "nbformat_minor": 4
}
