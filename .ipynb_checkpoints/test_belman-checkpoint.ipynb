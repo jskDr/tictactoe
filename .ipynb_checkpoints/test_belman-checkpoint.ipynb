{
 "cells": [
  {
   "cell_type": "code",
   "execution_count": 3,
   "metadata": {},
   "outputs": [],
   "source": [
    "%load_ext autoreload\n",
    "%autoreload 2\n",
    "\n",
    "#import numba\n",
    "import tictactoe"
   ]
  },
  {
   "cell_type": "code",
   "execution_count": 4,
   "metadata": {},
   "outputs": [
    {
     "data": {
      "text/plain": [
       "[[0],\n",
       " [0, 1],\n",
       " [0, 1, 2],\n",
       " [0, 2],\n",
       " [0, 2, 1],\n",
       " [1],\n",
       " [1, 0],\n",
       " [1, 0, 2],\n",
       " [1, 2],\n",
       " [1, 2, 0],\n",
       " [2],\n",
       " [2, 0],\n",
       " [2, 0, 1],\n",
       " [2, 1],\n",
       " [2, 1, 0]]"
      ]
     },
     "execution_count": 4,
     "metadata": {},
     "output_type": "execute_result"
    }
   ],
   "source": [
    "tictactoe.generate_action_list()"
   ]
  },
  {
   "cell_type": "code",
   "execution_count": 5,
   "metadata": {},
   "outputs": [
    {
     "name": "stdout",
     "output_type": "stream",
     "text": [
      "S: [0 0 0 0 0 0 0 0 0]\n",
      "Sa: [0 0 0 0 1 0 0 0 0]\n",
      "[Saa]\n",
      "[2 0 0 0 1 0 0 0 0]\n",
      "win_player_pro = 0\n",
      "Qsa[[2 0 0 0 1 0 0 0 0], 1] =  0.0\n",
      "Qsa[[2 0 0 0 1 0 0 0 0], 2] =  0.0\n",
      "Qsa[[2 0 0 0 1 0 0 0 0], 3] =  0.0\n",
      "Qsa[[2 0 0 0 1 0 0 0 0], 5] =  0.0\n",
      "Qsa[[2 0 0 0 1 0 0 0 0], 6] =  0.0\n",
      "Qsa[[2 0 0 0 1 0 0 0 0], 7] =  0.0\n",
      "Qsa[[2 0 0 0 1 0 0 0 0], 8] =  0.0\n",
      "D_E_V_Saa = 0.0\n",
      "[0 2 0 0 1 0 0 0 0]\n",
      "win_player_pro = 0\n",
      "Qsa[[0 2 0 0 1 0 0 0 0], 0] =  0.0\n",
      "Qsa[[0 2 0 0 1 0 0 0 0], 2] =  0.0\n",
      "Qsa[[0 2 0 0 1 0 0 0 0], 3] =  0.0\n",
      "Qsa[[0 2 0 0 1 0 0 0 0], 5] =  0.0\n",
      "Qsa[[0 2 0 0 1 0 0 0 0], 6] =  0.0\n",
      "Qsa[[0 2 0 0 1 0 0 0 0], 7] =  0.0\n",
      "Qsa[[0 2 0 0 1 0 0 0 0], 8] =  0.0\n",
      "D_E_V_Saa = 0.0\n",
      "[0 0 2 0 1 0 0 0 0]\n",
      "win_player_pro = 0\n",
      "Qsa[[0 0 2 0 1 0 0 0 0], 0] =  0.0\n",
      "Qsa[[0 0 2 0 1 0 0 0 0], 1] =  0.0\n",
      "Qsa[[0 0 2 0 1 0 0 0 0], 3] =  0.0\n",
      "Qsa[[0 0 2 0 1 0 0 0 0], 5] =  0.0\n",
      "Qsa[[0 0 2 0 1 0 0 0 0], 6] =  0.0\n",
      "Qsa[[0 0 2 0 1 0 0 0 0], 7] =  0.0\n",
      "Qsa[[0 0 2 0 1 0 0 0 0], 8] =  0.0\n",
      "D_E_V_Saa = 0.0\n",
      "[0 0 0 2 1 0 0 0 0]\n",
      "win_player_pro = 0\n",
      "Qsa[[0 0 0 2 1 0 0 0 0], 0] =  0.0\n",
      "Qsa[[0 0 0 2 1 0 0 0 0], 1] =  0.0\n",
      "Qsa[[0 0 0 2 1 0 0 0 0], 2] =  0.0\n",
      "Qsa[[0 0 0 2 1 0 0 0 0], 5] =  0.0\n",
      "Qsa[[0 0 0 2 1 0 0 0 0], 6] =  0.0\n",
      "Qsa[[0 0 0 2 1 0 0 0 0], 7] =  0.0\n",
      "Qsa[[0 0 0 2 1 0 0 0 0], 8] =  0.0\n",
      "D_E_V_Saa = 0.0\n",
      "[0 0 0 0 1 2 0 0 0]\n",
      "win_player_pro = 0\n",
      "Qsa[[0 0 0 0 1 2 0 0 0], 0] =  0.0\n",
      "Qsa[[0 0 0 0 1 2 0 0 0], 1] =  0.0\n",
      "Qsa[[0 0 0 0 1 2 0 0 0], 2] =  0.0\n",
      "Qsa[[0 0 0 0 1 2 0 0 0], 3] =  0.0\n",
      "Qsa[[0 0 0 0 1 2 0 0 0], 6] =  0.0\n",
      "Qsa[[0 0 0 0 1 2 0 0 0], 7] =  0.0\n",
      "Qsa[[0 0 0 0 1 2 0 0 0], 8] =  0.0\n",
      "D_E_V_Saa = 0.0\n",
      "[0 0 0 0 1 0 2 0 0]\n",
      "win_player_pro = 0\n",
      "Qsa[[0 0 0 0 1 0 2 0 0], 0] =  0.0\n",
      "Qsa[[0 0 0 0 1 0 2 0 0], 1] =  0.0\n",
      "Qsa[[0 0 0 0 1 0 2 0 0], 2] =  0.0\n",
      "Qsa[[0 0 0 0 1 0 2 0 0], 3] =  0.0\n",
      "Qsa[[0 0 0 0 1 0 2 0 0], 5] =  0.0\n",
      "Qsa[[0 0 0 0 1 0 2 0 0], 7] =  0.0\n",
      "Qsa[[0 0 0 0 1 0 2 0 0], 8] =  0.0\n",
      "D_E_V_Saa = 0.0\n",
      "[0 0 0 0 1 0 0 2 0]\n",
      "win_player_pro = 0\n",
      "Qsa[[0 0 0 0 1 0 0 2 0], 0] =  0.0\n",
      "Qsa[[0 0 0 0 1 0 0 2 0], 1] =  0.0\n",
      "Qsa[[0 0 0 0 1 0 0 2 0], 2] =  0.0\n",
      "Qsa[[0 0 0 0 1 0 0 2 0], 3] =  0.0\n",
      "Qsa[[0 0 0 0 1 0 0 2 0], 5] =  0.0\n",
      "Qsa[[0 0 0 0 1 0 0 2 0], 6] =  0.0\n",
      "Qsa[[0 0 0 0 1 0 0 2 0], 8] =  0.0\n",
      "D_E_V_Saa = 0.0\n",
      "[0 0 0 0 1 0 0 0 2]\n",
      "win_player_pro = 0\n",
      "Qsa[[0 0 0 0 1 0 0 0 2], 0] =  0.0\n",
      "Qsa[[0 0 0 0 1 0 0 0 2], 1] =  0.0\n",
      "Qsa[[0 0 0 0 1 0 0 0 2], 2] =  0.0\n",
      "Qsa[[0 0 0 0 1 0 0 0 2], 3] =  0.0\n",
      "Qsa[[0 0 0 0 1 0 0 0 2], 5] =  0.0\n",
      "Qsa[[0 0 0 0 1 0 0 0 2], 6] =  0.0\n",
      "Qsa[[0 0 0 0 1 0 0 0 2], 7] =  0.0\n",
      "D_E_V_Saa = 0.0\n",
      "[Returns]\n",
      "E_R = 0.0, E_V_Saa = 0.0\n",
      "[Result]\n",
      "Qsa([0 0 0 0 0 0 0 0 0], 4) ->  0.0\n"
     ]
    }
   ],
   "source": [
    "tictactoe.calc_Bellman_exp()"
   ]
  },
  {
   "cell_type": "code",
   "execution_count": 10,
   "metadata": {},
   "outputs": [],
   "source": [
    "bellman = tictactoe.Bellman()"
   ]
  },
  {
   "cell_type": "code",
   "execution_count": 11,
   "metadata": {
    "tags": [
     "outputPrepend"
    ]
   },
   "outputs": [
    {
     "name": "stdout",
     "output_type": "stream",
     "text": [
      "S: [0 0 0 0 0 0 0 0 0]\n",
      "Sa: [1 0 0 0 0 0 0 0 0]\n",
      "[Returns]\n",
      "E_R = 0.0, E_V_Saa = 0.0\n",
      "S: [0 0 0 0 0 0 0 0 0]\n",
      "Sa: [0 1 0 0 0 0 0 0 0]\n",
      "[Returns]\n",
      "E_R = 0.0, E_V_Saa = 0.0\n",
      "S: [0 0 0 0 0 0 0 0 0]\n",
      "Sa: [0 0 1 0 0 0 0 0 0]\n",
      "[Returns]\n",
      "E_R = 0.0, E_V_Saa = 0.0\n",
      "S: [0 0 0 0 0 0 0 0 0]\n",
      "Sa: [0 0 0 1 0 0 0 0 0]\n",
      "[Returns]\n",
      "E_R = 0.0, E_V_Saa = 0.0\n",
      "S: [0 0 0 0 0 0 0 0 0]\n",
      "Sa: [0 0 0 0 1 0 0 0 0]\n",
      "[Returns]\n",
      "E_R = 0.0, E_V_Saa = 0.0\n",
      "S: [0 0 0 0 0 0 0 0 0]\n",
      "Sa: [0 0 0 0 0 1 0 0 0]\n",
      "[Returns]\n",
      "E_R = 0.0, E_V_Saa = 0.0\n",
      "S: [0 0 0 0 0 0 0 0 0]\n",
      "Sa: [0 0 0 0 0 0 1 0 0]\n",
      "[Returns]\n",
      "E_R = 0.0, E_V_Saa = 0.0\n",
      "S: [0 0 0 0 0 0 0 0 0]\n",
      "Sa: [0 0 0 0 0 0 0 1 0]\n",
      "[Returns]\n",
      "E_R = 0.0, E_V_Saa = 0.0\n",
      "S: [0 0 0 0 0 0 0 0 0]\n",
      "Sa: [0 0 0 0 0 0 0 0 1]\n",
      "[Returns]\n",
      "E_R = 0.0, E_V_Saa = 0.0\n"
     ]
    }
   ],
   "source": [
    "bellman.update()"
   ]
  },
  {
   "cell_type": "code",
   "execution_count": null,
   "metadata": {},
   "outputs": [],
   "source": []
  }
 ],
 "metadata": {
  "kernelspec": {
   "display_name": "tf2",
   "language": "python",
   "name": "tf2"
  },
  "language_info": {
   "codemirror_mode": {
    "name": "ipython",
    "version": 3
   },
   "file_extension": ".py",
   "mimetype": "text/x-python",
   "name": "python",
   "nbconvert_exporter": "python",
   "pygments_lexer": "ipython3",
   "version": "3.7.4"
  }
 },
 "nbformat": 4,
 "nbformat_minor": 4
}
