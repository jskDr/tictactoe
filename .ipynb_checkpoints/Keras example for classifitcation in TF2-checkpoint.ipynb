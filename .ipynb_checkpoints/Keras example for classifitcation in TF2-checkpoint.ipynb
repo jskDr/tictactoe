{
 "cells": [
  {
   "cell_type": "markdown",
   "metadata": {},
   "source": [
    "# Keras example for classifitcation\n",
    "- Refer to: \n",
    "  - https://colab.research.google.com/drive/1p4RhSj1FEuscyZP81ocn8IeGD_2r46fS?fbclid=IwAR2c5N-T-b1arVit3jJIDrTuZQzNz_3pzSR2A9AXGWO-5QrJr8NhjgttB9k#scrollTo=zoDjozMFREDU\n",
    "  - https://colab.research.google.com/drive/1UCJt8EYjlzCs1H1d1X0iDGYJsHKwu-NO?fbclid=IwAR269Y-3J1DuZL01L6GBCC4dg6RSAmJXHnRfztL454dZ5SqKLRxCAZcxzgY"
   ]
  },
  {
   "cell_type": "code",
   "execution_count": 2,
   "metadata": {},
   "outputs": [
    {
     "name": "stdout",
     "output_type": "stream",
     "text": [
      "단계(Step): 0\n",
      "마지막 단계(Step)의 손실: 2.2830166816711426\n",
      "지금까지 수행된 전체에 대한 정확도: 0.15625\n",
      "단계(Step): 100\n",
      "마지막 단계(Step)의 손실: 0.3240736722946167\n",
      "지금까지 수행된 전체에 대한 정확도: 0.8389542102813721\n",
      "단계(Step): 200\n",
      "마지막 단계(Step)의 손실: 0.2415887713432312\n",
      "지금까지 수행된 전체에 대한 정확도: 0.8763992786407471\n",
      "단계(Step): 300\n",
      "마지막 단계(Step)의 손실: 0.17907004058361053\n",
      "지금까지 수행된 전체에 대한 정확도: 0.8964389562606812\n",
      "단계(Step): 400\n",
      "마지막 단계(Step)의 손실: 0.20433291792869568\n",
      "지금까지 수행된 전체에 대한 정확도: 0.9079644680023193\n",
      "단계(Step): 500\n",
      "마지막 단계(Step)의 손실: 0.20842380821704865\n",
      "지금까지 수행된 전체에 대한 정확도: 0.9157622456550598\n",
      "단계(Step): 600\n",
      "마지막 단계(Step)의 손실: 0.37517252564430237\n",
      "지금까지 수행된 전체에 대한 정확도: 0.9226809740066528\n",
      "단계(Step): 700\n",
      "마지막 단계(Step)의 손실: 0.08569125831127167\n",
      "지금까지 수행된 전체에 대한 정확도: 0.9273805022239685\n",
      "단계(Step): 800\n",
      "마지막 단계(Step)의 손실: 0.14712117612361908\n",
      "지금까지 수행된 전체에 대한 정확도: 0.9302629232406616\n",
      "단계(Step): 900\n",
      "마지막 단계(Step)의 손실: 0.11208811402320862\n",
      "지금까지 수행된 전체에 대한 정확도: 0.9339102506637573\n"
     ]
    }
   ],
   "source": [
    "import tensorflow as tf\n",
    "from tensorflow.keras import layers\n",
    "\n",
    "# 데이터셋를 준비합니다\n",
    "(x_train, y_train), (x_test, y_test) = tf.keras.datasets.mnist.load_data()\n",
    "x_train = x_train[:].reshape(60000, 784).astype('float32') / 255\n",
    "dataset = tf.data.Dataset.from_tensor_slices((x_train, y_train))\n",
    "dataset = dataset.shuffle(buffer_size=1024).batch(64)\n",
    "\n",
    "# 간단한 분류를 위한 모델의 인스턴스를 만듭니다\n",
    "model = tf.keras.Sequential([\n",
    "  layers.Dense(256, activation=tf.nn.relu),\n",
    "  layers.Dense(256, activation=tf.nn.relu),\n",
    "  layers.Dense(10)\n",
    "])\n",
    "\n",
    "# 정수형 레이블을 인자로 받아들이는, 로지스틱 Loss의 인스턴스를 만듭니다\n",
    "loss = tf.keras.losses.SparseCategoricalCrossentropy(from_logits=True)\n",
    "\n",
    "# 정확도에 대한 Metric의 인스턴스를 만듭니다\n",
    "accuracy = tf.keras.metrics.SparseCategoricalAccuracy()\n",
    "\n",
    "# Optimizer의 인스턴스를 만듭니다\n",
    "optimizer = tf.keras.optimizers.Adam()\n",
    "\n",
    "# 데이터셋의 데이터 배치를 순회합니다\n",
    "for step, (x, y) in enumerate(dataset):\n",
    "  \n",
    "  # GradientTape 열어줍니다\n",
    "  with tf.GradientTape() as tape:\n",
    "\n",
    "    # 순방향 전파(forward)를 수행합니다\n",
    "    logits = model(x)\n",
    "\n",
    "    # 현재 배치에 대한 손실값을 측정합니다\n",
    "    loss_value = loss(y, logits)\n",
    "     \n",
    "  # 손실에 대한 가중치의 경사도를 계산합니다\n",
    "  gradients = tape.gradient(loss_value, model.trainable_weights)\n",
    "  \n",
    "  # 모델의 가중치를 갱신합니다\n",
    "  optimizer.apply_gradients(zip(gradients, model.trainable_weights))\n",
    "\n",
    "  # 현재까지 수행된 전체에 대한 모델의 정확도를 갱신합니다\n",
    "  accuracy.update_state(y, logits)\n",
    "  \n",
    "  # 로그를 출력합니다\n",
    "  if step % 100 == 0:\n",
    "    print('단계(Step):', step)\n",
    "    print('마지막 단계(Step)의 손실:', float(loss_value))\n",
    "    print('지금까지 수행된 전체에 대한 정확도:', float(accuracy.result()))"
   ]
  },
  {
   "cell_type": "code",
   "execution_count": 3,
   "metadata": {},
   "outputs": [
    {
     "data": {
      "text/plain": [
       "(60000, 784)"
      ]
     },
     "execution_count": 3,
     "metadata": {},
     "output_type": "execute_result"
    }
   ],
   "source": [
    "x_train.shape"
   ]
  },
  {
   "cell_type": "code",
   "execution_count": 5,
   "metadata": {},
   "outputs": [
    {
     "data": {
      "text/plain": [
       "<tf.Tensor: shape=(1, 10), dtype=float32, numpy=\n",
       "array([[-4.308971 , -1.5691003, -0.9810329,  6.765113 , -8.438655 ,\n",
       "        11.703382 , -5.5273075, -3.7891805, -2.3363152, -0.6139008]],\n",
       "      dtype=float32)>"
      ]
     },
     "execution_count": 5,
     "metadata": {},
     "output_type": "execute_result"
    }
   ],
   "source": [
    "model(x_train[0:1, :])"
   ]
  },
  {
   "cell_type": "code",
   "execution_count": null,
   "metadata": {},
   "outputs": [],
   "source": []
  }
 ],
 "metadata": {
  "kernelspec": {
   "display_name": "tf2",
   "language": "python",
   "name": "tf2"
  },
  "language_info": {
   "codemirror_mode": {
    "name": "ipython",
    "version": 3
   },
   "file_extension": ".py",
   "mimetype": "text/x-python",
   "name": "python",
   "nbconvert_exporter": "python",
   "pygments_lexer": "ipython3",
   "version": "3.7.4"
  }
 },
 "nbformat": 4,
 "nbformat_minor": 4
}
