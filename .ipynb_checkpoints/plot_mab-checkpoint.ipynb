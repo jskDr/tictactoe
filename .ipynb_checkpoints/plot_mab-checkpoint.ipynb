{
 "cells": [
  {
   "cell_type": "code",
   "execution_count": 14,
   "metadata": {},
   "outputs": [],
   "source": [
    "import mab\n",
    "import numpy as np\n",
    "import pandas as pd\n",
    "import seaborn as sns"
   ]
  },
  {
   "cell_type": "code",
   "execution_count": 32,
   "metadata": {},
   "outputs": [
    {
     "ename": "AttributeError",
     "evalue": "module 'mab' has no attribute 'sns_lineplot_dic'",
     "output_type": "error",
     "traceback": [
      "\u001b[0;31m---------------------------------------------------------------------------\u001b[0m",
      "\u001b[0;31mAttributeError\u001b[0m                            Traceback (most recent call last)",
      "\u001b[0;32m<ipython-input-32-fac0620c9f4e>\u001b[0m in \u001b[0;36m<module>\u001b[0;34m\u001b[0m\n\u001b[1;32m     11\u001b[0m \u001b[0mT_interval\u001b[0m \u001b[0;34m=\u001b[0m \u001b[0;36m10\u001b[0m\u001b[0;34m\u001b[0m\u001b[0;34m\u001b[0m\u001b[0m\n\u001b[1;32m     12\u001b[0m \u001b[0mregrets_d\u001b[0m \u001b[0;34m=\u001b[0m \u001b[0;34m{\u001b[0m\u001b[0;34m'TS'\u001b[0m\u001b[0;34m:\u001b[0m\u001b[0mregrets_a_ts_repeat\u001b[0m\u001b[0;34m[\u001b[0m\u001b[0;34m:\u001b[0m\u001b[0;34m,\u001b[0m\u001b[0;34m:\u001b[0m\u001b[0;34m:\u001b[0m\u001b[0mT_interval\u001b[0m\u001b[0;34m]\u001b[0m\u001b[0;34m,\u001b[0m \u001b[0;34m'Greedy'\u001b[0m\u001b[0;34m:\u001b[0m\u001b[0mregrets_a_greedy_repeat\u001b[0m\u001b[0;34m[\u001b[0m\u001b[0;34m:\u001b[0m\u001b[0;34m,\u001b[0m\u001b[0;34m:\u001b[0m\u001b[0;34m:\u001b[0m\u001b[0mT_interval\u001b[0m\u001b[0;34m]\u001b[0m\u001b[0;34m}\u001b[0m\u001b[0;34m\u001b[0m\u001b[0;34m\u001b[0m\u001b[0m\n\u001b[0;32m---> 13\u001b[0;31m \u001b[0mmab\u001b[0m\u001b[0;34m.\u001b[0m\u001b[0msns_lineplot_dic\u001b[0m\u001b[0;34m(\u001b[0m\u001b[0mregrets_d\u001b[0m\u001b[0;34m,\u001b[0m \u001b[0mT_interval\u001b[0m\u001b[0;34m=\u001b[0m\u001b[0mT_interval\u001b[0m\u001b[0;34m)\u001b[0m\u001b[0;34m\u001b[0m\u001b[0;34m\u001b[0m\u001b[0m\n\u001b[0m",
      "\u001b[0;31mAttributeError\u001b[0m: module 'mab' has no attribute 'sns_lineplot_dic'"
     ]
    }
   ],
   "source": [
    "N_actions=10\n",
    "N_episodes=1000\n",
    "N_repeats = 10\n",
    "epsilon=0.1\n",
    "mu_a = np.zeros(N_actions, dtype=float) + 0.5 - epsilon\n",
    "mu_a[0] = 0.5\n",
    "regrets_a_ts_repeat = mab.mab_bernoulli_fn_episodes_repeats(mu_a, N_actions=N_actions, N_episodes=N_episodes, N_repeats=N_repeats, fn_run=mab.mab_bernoulli_ts_run)\n",
    "regrets_a_greedy_repeat = mab.mab_bernoulli_fn_episodes_repeats(mu_a, N_actions=N_actions, N_episodes=N_episodes, N_repeats=N_repeats, fn_run=mab.mab_bernoulli_greedy_run)\n",
    "regrets_a_lb = mab.mab_bernoulli_low_bound(mu_a, N_actions=N_actions, N_episodes=N_episodes)\n",
    "\n",
    "T_interval = 10\n",
    "regrets_d = {'TS':regrets_a_ts_repeat[:,::T_interval], 'Greedy':regrets_a_greedy_repeat[:,::T_interval]}    \n",
    "mab.sns_lineplot_dic(regrets_d, T_interval=T_interval)"
   ]
  }
 ],
 "metadata": {
  "kernelspec": {
   "display_name": "tf2",
   "language": "python",
   "name": "tf2"
  },
  "language_info": {
   "codemirror_mode": {
    "name": "ipython",
    "version": 3
   },
   "file_extension": ".py",
   "mimetype": "text/x-python",
   "name": "python",
   "nbconvert_exporter": "python",
   "pygments_lexer": "ipython3",
   "version": "3.7.7"
  }
 },
 "nbformat": 4,
 "nbformat_minor": 4
}
