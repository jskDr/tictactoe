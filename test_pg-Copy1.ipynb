{
 "cells": [
  {
   "cell_type": "code",
   "execution_count": 1,
   "metadata": {},
   "outputs": [],
   "source": [
    "import tensorflow as tf\n",
    "import numpy as np\n",
    "import tictactoe as ttt\n",
    "from tictactoe import RL_System_PG_TF, RandomWalkEnv, ReplayBuff_PG_TF, calc_discounted_return_inplace,DNN_Random_Walk"
   ]
  },
  {
   "cell_type": "code",
   "execution_count": 4,
   "metadata": {},
   "outputs": [
    {
     "name": "stdout",
     "output_type": "stream",
     "text": [
      "[0. 1. 1.]\n"
     ]
    },
    {
     "data": {
      "text/plain": [
       "[<tf.Tensor: shape=(5, 2), dtype=float32, numpy=\n",
       " array([[ 0.        , -0.        ],\n",
       "        [ 0.        , -0.        ],\n",
       "        [ 0.19635068, -0.1963507 ],\n",
       "        [ 0.73578155, -0.73578155],\n",
       "        [ 0.25170067, -0.2517007 ]], dtype=float32)>,\n",
       " <tf.Tensor: shape=(2,), dtype=float32, numpy=array([ 1.1838329, -1.1838329], dtype=float32)>]"
      ]
     },
     "execution_count": 4,
     "metadata": {},
     "output_type": "execute_result"
    }
   ],
   "source": [
    "N_episodes = 10\n",
    "\n",
    "rl_system = RL_System_PG_TF(5, 2)\n",
    "random_walk_env = RandomWalkEnv()\n",
    "S = random_walk_env.reset()\n",
    "\n",
    "optimizer = tf.keras.optimizers.Adam()\n",
    "replay_buff = ReplayBuff_PG_TF()\n",
    "\n",
    "# for _ in range(N_episodes):\n",
    "with tf.GradientTape() as tape:\n",
    "    done = False        \n",
    "    while not done:\n",
    "        action, prob, S_tf_each = rl_system.get_action_prob_tf(S)\n",
    "        S_new, reward, done = random_walk_env.step(action)\n",
    "        replay_buff.append(S, action, S_new, reward, done, prob, S_tf_each)\n",
    "        S = S_new\n",
    "\n",
    "    discounted_return = np.array(replay_buff.d['reward'])\n",
    "    calc_discounted_return_inplace(discounted_return)\n",
    "\n",
    "    print(discounted_return)\n",
    "    prob = tf.concat(replay_buff.d['prob'], 0)    \n",
    "    loss_value = tf.math.multiply(tf.math.log(prob), -1) # * discounted_return.reshape(-1,1)\n",
    "gradients = tape.gradient(loss_value, rl_system.function_approx.trainable_weights)\n",
    "\n",
    "gradients"
   ]
  },
  {
   "cell_type": "code",
   "execution_count": 43,
   "metadata": {},
   "outputs": [
    {
     "data": {
      "text/plain": [
       "[<tf.Variable 'dnn__random__walk_24/dense_24/kernel:0' shape=(5, 2) dtype=float32, numpy=\n",
       " array([[ 0.8425174 ,  0.4550209 ],\n",
       "        [ 0.63371277,  0.67467   ],\n",
       "        [-0.27268612, -0.42878765],\n",
       "        [ 0.6713605 , -0.16385078],\n",
       "        [ 0.36399555,  0.40740037]], dtype=float32)>,\n",
       " <tf.Variable 'dnn__random__walk_24/dense_24/bias:0' shape=(2,) dtype=float32, numpy=array([0., 0.], dtype=float32)>]"
      ]
     },
     "execution_count": 43,
     "metadata": {},
     "output_type": "execute_result"
    }
   ],
   "source": [
    "rl_system.function_approx.trainable_weights"
   ]
  },
  {
   "cell_type": "code",
   "execution_count": 79,
   "metadata": {},
   "outputs": [
    {
     "name": "stdout",
     "output_type": "stream",
     "text": [
      "tf.Tensor([0.], shape=(1,), dtype=float32) [<tf.Tensor: shape=(5, 2), dtype=float32, numpy=\n",
      "array([[ 0., -0.],\n",
      "       [ 0., -0.],\n",
      "       [ 0., -0.],\n",
      "       [ 0., -0.],\n",
      "       [ 0., -0.]], dtype=float32)>, <tf.Tensor: shape=(2,), dtype=float32, numpy=array([ 0., -0.], dtype=float32)>] 1\n",
      "action: 1\n",
      "\n",
      "tf.Tensor([0.], shape=(1,), dtype=float32) [<tf.Tensor: shape=(5, 2), dtype=float32, numpy=\n",
      "array([[-0.,  0.],\n",
      "       [-0.,  0.],\n",
      "       [-0.,  0.],\n",
      "       [-0.,  0.],\n",
      "       [-0.,  0.]], dtype=float32)>, <tf.Tensor: shape=(2,), dtype=float32, numpy=array([-0.,  0.], dtype=float32)>] 0\n",
      "action: 0\n",
      "\n",
      "tf.Tensor([0.], shape=(1,), dtype=float32) [<tf.Tensor: shape=(5, 2), dtype=float32, numpy=\n",
      "array([[ 0., -0.],\n",
      "       [ 0., -0.],\n",
      "       [ 0., -0.],\n",
      "       [ 0., -0.],\n",
      "       [ 0., -0.]], dtype=float32)>, <tf.Tensor: shape=(2,), dtype=float32, numpy=array([ 0., -0.], dtype=float32)>] 1\n",
      "action: 1\n",
      "\n",
      "tf.Tensor([0.], shape=(1,), dtype=float32) [<tf.Tensor: shape=(5, 2), dtype=float32, numpy=\n",
      "array([[ 0., -0.],\n",
      "       [ 0., -0.],\n",
      "       [ 0., -0.],\n",
      "       [ 0., -0.],\n",
      "       [ 0., -0.]], dtype=float32)>, <tf.Tensor: shape=(2,), dtype=float32, numpy=array([ 0., -0.], dtype=float32)>] 1\n",
      "action: 1\n",
      "\n",
      "tf.Tensor([0.], shape=(1,), dtype=float32) [<tf.Tensor: shape=(5, 2), dtype=float32, numpy=\n",
      "array([[ 0., -0.],\n",
      "       [ 0., -0.],\n",
      "       [ 0., -0.],\n",
      "       [ 0., -0.],\n",
      "       [ 0., -0.]], dtype=float32)>, <tf.Tensor: shape=(2,), dtype=float32, numpy=array([ 0., -0.], dtype=float32)>] 1\n",
      "action: 1\n",
      "\n",
      "tf.Tensor([0.], shape=(1,), dtype=float32) [<tf.Tensor: shape=(5, 2), dtype=float32, numpy=\n",
      "array([[ 0., -0.],\n",
      "       [ 0., -0.],\n",
      "       [ 0., -0.],\n",
      "       [ 0., -0.],\n",
      "       [ 0., -0.]], dtype=float32)>, <tf.Tensor: shape=(2,), dtype=float32, numpy=array([ 0., -0.], dtype=float32)>] 1\n",
      "action: 1\n",
      "\n",
      "tf.Tensor([0.], shape=(1,), dtype=float32) [<tf.Tensor: shape=(5, 2), dtype=float32, numpy=\n",
      "array([[ 0., -0.],\n",
      "       [ 0., -0.],\n",
      "       [ 0., -0.],\n",
      "       [ 0., -0.],\n",
      "       [ 0., -0.]], dtype=float32)>, <tf.Tensor: shape=(2,), dtype=float32, numpy=array([ 0., -0.], dtype=float32)>] 1\n",
      "action: 1\n",
      "\n",
      "tf.Tensor([0.], shape=(1,), dtype=float32) [<tf.Tensor: shape=(5, 2), dtype=float32, numpy=\n",
      "array([[-0.,  0.],\n",
      "       [-0.,  0.],\n",
      "       [-0.,  0.],\n",
      "       [-0.,  0.],\n",
      "       [-0.,  0.]], dtype=float32)>, <tf.Tensor: shape=(2,), dtype=float32, numpy=array([-0.,  0.], dtype=float32)>] 0\n",
      "action: 0\n",
      "\n",
      "tf.Tensor([0.], shape=(1,), dtype=float32) [<tf.Tensor: shape=(5, 2), dtype=float32, numpy=\n",
      "array([[-0.,  0.],\n",
      "       [-0.,  0.],\n",
      "       [-0.,  0.],\n",
      "       [-0.,  0.],\n",
      "       [-0.,  0.]], dtype=float32)>, <tf.Tensor: shape=(2,), dtype=float32, numpy=array([-0.,  0.], dtype=float32)>] 0\n",
      "action: 0\n",
      "\n",
      "tf.Tensor([0.], shape=(1,), dtype=float32) [<tf.Tensor: shape=(5, 2), dtype=float32, numpy=\n",
      "array([[ 0., -0.],\n",
      "       [ 0., -0.],\n",
      "       [ 0., -0.],\n",
      "       [ 0., -0.],\n",
      "       [ 0., -0.]], dtype=float32)>, <tf.Tensor: shape=(2,), dtype=float32, numpy=array([ 0., -0.], dtype=float32)>] 1\n",
      "action: 1\n",
      "\n"
     ]
    }
   ],
   "source": [
    "N_episodes = 10\n",
    "\n",
    "optimizer = tf.keras.optimizers.Adam()\n",
    "random_walk_env = ttt.RandomWalkEnv()\n",
    "function_approx = ttt.DNN_Random_Walk(N_A=N_A)\n",
    "\n",
    "for _ in range(N_episodes):\n",
    "    S = random_walk_env.reset()\n",
    "    with tf.GradientTape() as tape:\n",
    "        S_a = np.zeros((1,N_S), dtype=np.float16)\n",
    "        S_a[0, S] = 1.0\n",
    "        S_tf = tf.Variable(S_a)\n",
    "        probs_tf = function_approx(S_tf)\n",
    "        action = np.random.choice(N_A, p=probs_tf.numpy()[0])\n",
    "        S_new, reward, done = random_walk_env.step(action)\n",
    "\n",
    "        prob_tf = tf.reshape(probs_tf[:,action],(-1,1))\n",
    "\n",
    "        performance = tf.math.log(prob_tf) * reward \n",
    "        loss_value = tf.reduce_sum(-performance, axis=-1)\n",
    "\n",
    "    gradients = tape.gradient(loss_value, function_approx.trainable_weights)\n",
    "    optimizer.apply_gradients(zip(gradients, function_approx.trainable_weights))\n",
    "    print(loss_value, gradients, action)\n",
    "    print(f'action: {action}')\n",
    "    print()"
   ]
  },
  {
   "cell_type": "code",
   "execution_count": 64,
   "metadata": {},
   "outputs": [
    {
     "data": {
      "text/plain": [
       "[None, None]"
      ]
     },
     "execution_count": 64,
     "metadata": {},
     "output_type": "execute_result"
    }
   ],
   "source": [
    "N_episodes = 10\n",
    "N_A = 2\n",
    "N_S = 5\n",
    "\n",
    "rl_system = RL_System_PG_TF(5, 2)\n",
    "random_walk_env = RandomWalkEnv()\n",
    "S = random_walk_env.reset()\n",
    "\n",
    "optimizer = tf.keras.optimizers.Adam()\n",
    "replay_buff = ReplayBuff_PG_TF()\n",
    "function_approx = DNN_Random_Walk(N_A=N_A)\n",
    "# for _ in range(N_episodes):\n",
    "with tf.GradientTape() as tape:\n",
    "    done = False        \n",
    "    while not done:\n",
    "        S_a = np.zeros((1,N_S), dtype=np.float16)\n",
    "        S_a[0, S] = 1.0\n",
    "        S_tf = tf.Variable(S_a)\n",
    "\n",
    "        probs_tf = function_approx(S_tf)\n",
    "        action = np.random.choice(N_A, p=probs_tf.numpy()[0])        \n",
    "        \n",
    "        # action, prob, S_tf_each = rl_system.get_action_prob_tf(S)\n",
    "        S_new, reward, done = random_walk_env.step(action)\n",
    "        replay_buff.append(S, action, S_new, reward, done, prob, S_tf_each)\n",
    "        S = S_new\n",
    "\n",
    "#discounted_return = np.array(replay_buff.d['reward'])\n",
    "#calc_discounted_return_inplace(discounted_return)\n",
    "\n",
    "#print(discounted_return)\n",
    "#prob = tf.concat(replay_buff.d['prob'], 0)    \n",
    "loss_value = tf.reduce_sum(tf.math.multiply(tf.math.log(prob), -1),-1) # * discounted_return.reshape(-1,1)\n",
    "gradients = tape.gradient(loss_value, function_approx.trainable_weights)\n",
    "# optimizer.apply_gradients(zip(gradients, rl_system.function_approx.trainable_weights))\n",
    "\n",
    "# prob, discounted_return, performance, loss_value, \n",
    "gradients"
   ]
  },
  {
   "cell_type": "code",
   "execution_count": 54,
   "metadata": {},
   "outputs": [
    {
     "data": {
      "text/plain": [
       "<tf.Tensor: shape=(1, 1), dtype=float32, numpy=array([[0.6894291]], dtype=float32)>"
      ]
     },
     "execution_count": 54,
     "metadata": {},
     "output_type": "execute_result"
    }
   ],
   "source": [
    "prob"
   ]
  },
  {
   "cell_type": "code",
   "execution_count": 55,
   "metadata": {},
   "outputs": [
    {
     "data": {
      "text/plain": [
       "<tf.Tensor: shape=(1,), dtype=float32, numpy=array([0.3718914], dtype=float32)>"
      ]
     },
     "execution_count": 55,
     "metadata": {},
     "output_type": "execute_result"
    }
   ],
   "source": [
    "loss_value"
   ]
  },
  {
   "cell_type": "code",
   "execution_count": null,
   "metadata": {},
   "outputs": [],
   "source": []
  }
 ],
 "metadata": {
  "kernelspec": {
   "display_name": "tf2",
   "language": "python",
   "name": "tf2"
  },
  "language_info": {
   "codemirror_mode": {
    "name": "ipython",
    "version": 3
   },
   "file_extension": ".py",
   "mimetype": "text/x-python",
   "name": "python",
   "nbconvert_exporter": "python",
   "pygments_lexer": "ipython3",
   "version": "3.7.7"
  }
 },
 "nbformat": 4,
 "nbformat_minor": 4
}
