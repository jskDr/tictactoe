{
 "cells": [
  {
   "cell_type": "code",
   "execution_count": 1,
   "metadata": {},
   "outputs": [],
   "source": [
    "%load_ext autoreload\n",
    "%autoreload 2\n",
    "\n",
    "#import numba\n",
    "import tictactoe"
   ]
  },
  {
   "cell_type": "code",
   "execution_count": 2,
   "metadata": {},
   "outputs": [
    {
     "output_type": "execute_result",
     "data": {
      "text/plain": "[[0],\n [0, 1],\n [0, 1, 2],\n [0, 2],\n [0, 2, 1],\n [1],\n [1, 0],\n [1, 0, 2],\n [1, 2],\n [1, 2, 0],\n [2],\n [2, 0],\n [2, 0, 1],\n [2, 1],\n [2, 1, 0]]"
     },
     "metadata": {},
     "execution_count": 2
    }
   ],
   "source": [
    "tictactoe.generate_action_list()"
   ]
  }
 ],
 "metadata": {
  "kernelspec": {
   "display_name": "tf2",
   "language": "python",
   "name": "tf2"
  },
  "language_info": {
   "codemirror_mode": {
    "name": "ipython",
    "version": 3
   },
   "file_extension": ".py",
   "mimetype": "text/x-python",
   "name": "python",
   "nbconvert_exporter": "python",
   "pygments_lexer": "ipython3",
   "version": "3.7.4-final"
  }
 },
 "nbformat": 4,
 "nbformat_minor": 4
}