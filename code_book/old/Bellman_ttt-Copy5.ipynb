{
 "cells": [
  {
   "cell_type": "markdown",
   "metadata": {},
   "source": [
    "# Bellman for TicTacToe"
   ]
  },
  {
   "cell_type": "code",
   "execution_count": 3,
   "metadata": {},
   "outputs": [
    {
     "name": "stdout",
     "output_type": "stream",
     "text": [
      "Policy: [array([0.5, 0.5]), array([0.5, 0.5]), array([0.5, 0.5]), array([0.5, 0.5])]\n",
      "v[0]=-2.5057415905523253\n",
      "v[1]=-1.6060272426565467\n",
      "v[2]=2.4316473139847745\n",
      "v[3]=7.135350237940245\n",
      "v[4]=0.0\n",
      "q[0][0]=-3.3266059231766705\n",
      "q[0][1]=-1.6848772579279794\n",
      "q[1][0]=-3.3516633390821924\n",
      "q[1][1]=0.13960885376910126\n",
      "q[2][0]=0.0\n",
      "q[2][1]=4.863294627969549\n",
      "q[3][0]=4.270700475880492\n",
      "q[3][1]=10.0\n"
     ]
    }
   ],
   "source": [
    "import numpy as np\n",
    "from typing import List\n",
    "   \n",
    "def bellman_v(v:np.ndarray, policy:List, Rsa:List, Psas:np.ndarray, \n",
    "        s:int=0, forgetting_factor:float=1.0) -> float:\n",
    "    Gs = 0\n",
    "    for a in range(len(policy[s])):\n",
    "        Gs += policy[s][a] * bellman_q_by_v(v, Rsa, Psas, \n",
    "                s=s, a=a, forgetting_factor=forgetting_factor)\n",
    "    return Gs\n",
    "\n",
    "def bellman_q_by_v(v:np.ndarray, Rsa:List, Psas:np.ndarray, \n",
    "        s:int=0, a:int=0, forgetting_factor:float=1.0) -> float:\n",
    "    reward = Rsa[s][a]\n",
    "    v_next = 0\n",
    "    for next_s in range(len(Psas[s,a])):\n",
    "        if Psas[s,a,next_s] and next_s < len(v) - 1:\n",
    "            v_next += Psas[s,a,next_s] * v[next_s]     \n",
    "    Gs = reward + forgetting_factor * v_next\n",
    "    return Gs\n",
    "\n",
    "def bellman_q(q:List, policy:List, Rsa:List, Psas:np.ndarray, \n",
    "        s:int=0, a:int=0, forgetting_factor:float=1.0) -> float:\n",
    "    reward = Rsa[s][a]\n",
    "    v_next = 0\n",
    "    for next_s in range(len(Psas[s,a])):\n",
    "        if Psas[s,a,next_s] and next_s < len(q) - 1:\n",
    "            v = 0\n",
    "            for next_a in range(len(policy[next_s])):\n",
    "                v += policy[next_s][next_a] * q[next_s][next_a]\n",
    "            v_next += Psas[s,a,next_s] * v     \n",
    "    Gs = reward + forgetting_factor * v_next\n",
    "    return Gs\n",
    "\n",
    "class MDP:\n",
    "    def __init__(self):\n",
    "        self.init_policy_Rsa()\n",
    "        \n",
    "    def init_policy_Rsa(self):\n",
    "        # policy[state][action] = 0.9 (<-- prob)\n",
    "        # None state is the last state        \n",
    "        self.policy_actions_table = [['Facebook', 'Quit'], ['Facebook', 'Study'], \n",
    "            ['Sleep', 'Study'], ['Pub', 'Study'], None]\n",
    "        self.Rsa = [[-1,0], [-1,-2], [0, -2], [1,10]]\n",
    "        self.N_states = len(self.policy_actions_table)\n",
    "        self.policy = []\n",
    "        for actions in self.policy_actions_table:\n",
    "            if actions:\n",
    "                N_actions = len(actions)\n",
    "                self.policy.append(np.ones(N_actions)/N_actions)\n",
    "                \n",
    "        # policy가 고려되지 않은 관계임. Policy에 따른 가중에 별도로 고려되어야 함.\n",
    "        self.Psas = np.zeros([self.N_states, 2, self.N_states]) # Probability\n",
    "        self.Psas[0,0,0], self.Psas[0,1,1] = 1.0, 1.0\n",
    "        self.Psas[1,0,0], self.Psas[1,1,2] = 1.0, 1.0\n",
    "        self.Psas[2,0,4], self.Psas[2,1,3] = 1.0, 1.0\n",
    "        self.Psas[3,0,1], self.Psas[3,0,2], \\\n",
    "            self.Psas[3,0,3], self.Psas[3,1,4] = 0.2, 0.4, 0.4, 1.0 \n",
    "        \n",
    "    def init_v(self):\n",
    "        self.v = np.zeros(self.N_states)\n",
    "        \n",
    "    def init_q(self):\n",
    "        self.q = []\n",
    "        for s in range(self.N_states - 1):\n",
    "            self.q.append(np.zeros(len(self.policy[s])))\n",
    "        self.q.append(0)\n",
    "        \n",
    "    def calc_bellman_v(self, s:int) -> float:\n",
    "        return bellman_v(self.v, self.policy, self.Rsa, self.Psas, s=s)    \n",
    "    \n",
    "    def calc_bellman_q(self, s:int, a:int) -> float:\n",
    "        #return 0\n",
    "        return bellman_q(self.q, self.policy, self.Rsa, self.Psas, s=s, a=a)    \n",
    "    \n",
    "    def get_v(self, N_iter:int=10) -> np.ndarray:\n",
    "        self.init_v()\n",
    "        for n in range(N_iter):\n",
    "            for s in range(self.N_states-1):\n",
    "                self.v[s] = (self.v[s] * n + self.calc_bellman_v(s))/(n+1)        \n",
    "        \n",
    "        for s in range(self.N_states):\n",
    "            print(f'v[{s}]={self.v[s]}')\n",
    "        return self.v\n",
    "    \n",
    "    def get_q(self, N_iter:int=10) -> List:\n",
    "        self.init_q()\n",
    "        \n",
    "        for n in range(N_iter):\n",
    "            for s in range(self.N_states-1):\n",
    "                for a in range(len(self.policy[s])):\n",
    "                    #print(f'[?]s,a={s,a} --> {self.q[s][a]}')\n",
    "                    self.q[s][a] = (self.q[s][a] * n + \n",
    "                        self.calc_bellman_q(s,a))/(n+1)  \n",
    "                    #self.q[s][a] = (self.q[s][a] * n)/(n+1) \n",
    "        \n",
    "        for s in range(self.N_states-1):\n",
    "            for a in range(len(self.policy[s])):\n",
    "                print(f'q[{s}][{a}]={self.q[s][a]}')\n",
    "        return self.q      \n",
    "    \n",
    "    def test(self, N_Iter:int=100):\n",
    "        print(f'Policy: {self.policy}')\n",
    "        self.get_v(N_Iter)\n",
    "        self.get_q(N_Iter)\n",
    "             \n",
    "MDP().test()"
   ]
  },
  {
   "cell_type": "code",
   "execution_count": 4,
   "metadata": {},
   "outputs": [],
   "source": [
    "import pandas as pd"
   ]
  },
  {
   "cell_type": "code",
   "execution_count": 5,
   "metadata": {},
   "outputs": [],
   "source": [
    "S_df = pd.DataFrame({'S':[0,1,2,3,4]})\n",
    "policy_df = pd.DataFrame({'s':[0,0,0,1,2,3], 'a':[0,1,2,0,0,0], 'pi':[1/3, 1/3, 1/3, 1, 1, 1]})\n",
    "R_df = pd.DataFrame({'s':[0,0,0,1,2,3], 'a':[0,1,2,0,0,0], 'R':[1,0,-1/2,0,0,0]})\n",
    "P_df = pd.DataFrame({'s':[0,0,0,0,0,1,2,3], 'a':[0,1,1,2,2,0,0,0], 'next_s':[4,1,2,3,4,4,4,4], 'P':[1,1/2,1/2,1/2,1/2,0,0,0]})"
   ]
  },
  {
   "cell_type": "code",
   "execution_count": 6,
   "metadata": {},
   "outputs": [
    {
     "data": {
      "text/html": [
       "<div>\n",
       "<style scoped>\n",
       "    .dataframe tbody tr th:only-of-type {\n",
       "        vertical-align: middle;\n",
       "    }\n",
       "\n",
       "    .dataframe tbody tr th {\n",
       "        vertical-align: top;\n",
       "    }\n",
       "\n",
       "    .dataframe thead th {\n",
       "        text-align: right;\n",
       "    }\n",
       "</style>\n",
       "<table border=\"1\" class=\"dataframe\">\n",
       "  <thead>\n",
       "    <tr style=\"text-align: right;\">\n",
       "      <th></th>\n",
       "      <th>s</th>\n",
       "      <th>a</th>\n",
       "      <th>pi</th>\n",
       "    </tr>\n",
       "  </thead>\n",
       "  <tbody>\n",
       "    <tr>\n",
       "      <th>0</th>\n",
       "      <td>0</td>\n",
       "      <td>0</td>\n",
       "      <td>0.333333</td>\n",
       "    </tr>\n",
       "    <tr>\n",
       "      <th>1</th>\n",
       "      <td>0</td>\n",
       "      <td>1</td>\n",
       "      <td>0.333333</td>\n",
       "    </tr>\n",
       "    <tr>\n",
       "      <th>2</th>\n",
       "      <td>0</td>\n",
       "      <td>2</td>\n",
       "      <td>0.333333</td>\n",
       "    </tr>\n",
       "    <tr>\n",
       "      <th>3</th>\n",
       "      <td>1</td>\n",
       "      <td>0</td>\n",
       "      <td>1.000000</td>\n",
       "    </tr>\n",
       "    <tr>\n",
       "      <th>4</th>\n",
       "      <td>2</td>\n",
       "      <td>0</td>\n",
       "      <td>1.000000</td>\n",
       "    </tr>\n",
       "    <tr>\n",
       "      <th>5</th>\n",
       "      <td>3</td>\n",
       "      <td>0</td>\n",
       "      <td>1.000000</td>\n",
       "    </tr>\n",
       "  </tbody>\n",
       "</table>\n",
       "</div>"
      ],
      "text/plain": [
       "   s  a        pi\n",
       "0  0  0  0.333333\n",
       "1  0  1  0.333333\n",
       "2  0  2  0.333333\n",
       "3  1  0  1.000000\n",
       "4  2  0  1.000000\n",
       "5  3  0  1.000000"
      ]
     },
     "execution_count": 6,
     "metadata": {},
     "output_type": "execute_result"
    }
   ],
   "source": [
    "policy_df"
   ]
  },
  {
   "cell_type": "code",
   "execution_count": 7,
   "metadata": {},
   "outputs": [
    {
     "data": {
      "text/html": [
       "<div>\n",
       "<style scoped>\n",
       "    .dataframe tbody tr th:only-of-type {\n",
       "        vertical-align: middle;\n",
       "    }\n",
       "\n",
       "    .dataframe tbody tr th {\n",
       "        vertical-align: top;\n",
       "    }\n",
       "\n",
       "    .dataframe thead th {\n",
       "        text-align: right;\n",
       "    }\n",
       "</style>\n",
       "<table border=\"1\" class=\"dataframe\">\n",
       "  <thead>\n",
       "    <tr style=\"text-align: right;\">\n",
       "      <th></th>\n",
       "      <th>s</th>\n",
       "      <th>a</th>\n",
       "      <th>R</th>\n",
       "    </tr>\n",
       "  </thead>\n",
       "  <tbody>\n",
       "    <tr>\n",
       "      <th>0</th>\n",
       "      <td>0</td>\n",
       "      <td>0</td>\n",
       "      <td>1.0</td>\n",
       "    </tr>\n",
       "    <tr>\n",
       "      <th>1</th>\n",
       "      <td>0</td>\n",
       "      <td>1</td>\n",
       "      <td>0.0</td>\n",
       "    </tr>\n",
       "    <tr>\n",
       "      <th>2</th>\n",
       "      <td>0</td>\n",
       "      <td>2</td>\n",
       "      <td>-0.5</td>\n",
       "    </tr>\n",
       "    <tr>\n",
       "      <th>3</th>\n",
       "      <td>1</td>\n",
       "      <td>0</td>\n",
       "      <td>0.0</td>\n",
       "    </tr>\n",
       "    <tr>\n",
       "      <th>4</th>\n",
       "      <td>2</td>\n",
       "      <td>0</td>\n",
       "      <td>0.0</td>\n",
       "    </tr>\n",
       "    <tr>\n",
       "      <th>5</th>\n",
       "      <td>3</td>\n",
       "      <td>0</td>\n",
       "      <td>0.0</td>\n",
       "    </tr>\n",
       "  </tbody>\n",
       "</table>\n",
       "</div>"
      ],
      "text/plain": [
       "   s  a    R\n",
       "0  0  0  1.0\n",
       "1  0  1  0.0\n",
       "2  0  2 -0.5\n",
       "3  1  0  0.0\n",
       "4  2  0  0.0\n",
       "5  3  0  0.0"
      ]
     },
     "execution_count": 7,
     "metadata": {},
     "output_type": "execute_result"
    }
   ],
   "source": [
    "R_df"
   ]
  },
  {
   "cell_type": "code",
   "execution_count": 8,
   "metadata": {},
   "outputs": [
    {
     "data": {
      "text/html": [
       "<div>\n",
       "<style scoped>\n",
       "    .dataframe tbody tr th:only-of-type {\n",
       "        vertical-align: middle;\n",
       "    }\n",
       "\n",
       "    .dataframe tbody tr th {\n",
       "        vertical-align: top;\n",
       "    }\n",
       "\n",
       "    .dataframe thead th {\n",
       "        text-align: right;\n",
       "    }\n",
       "</style>\n",
       "<table border=\"1\" class=\"dataframe\">\n",
       "  <thead>\n",
       "    <tr style=\"text-align: right;\">\n",
       "      <th></th>\n",
       "      <th>s</th>\n",
       "      <th>a</th>\n",
       "      <th>next_s</th>\n",
       "      <th>P</th>\n",
       "    </tr>\n",
       "  </thead>\n",
       "  <tbody>\n",
       "    <tr>\n",
       "      <th>0</th>\n",
       "      <td>0</td>\n",
       "      <td>0</td>\n",
       "      <td>4</td>\n",
       "      <td>1.0</td>\n",
       "    </tr>\n",
       "    <tr>\n",
       "      <th>1</th>\n",
       "      <td>0</td>\n",
       "      <td>1</td>\n",
       "      <td>1</td>\n",
       "      <td>0.5</td>\n",
       "    </tr>\n",
       "    <tr>\n",
       "      <th>2</th>\n",
       "      <td>0</td>\n",
       "      <td>1</td>\n",
       "      <td>2</td>\n",
       "      <td>0.5</td>\n",
       "    </tr>\n",
       "    <tr>\n",
       "      <th>3</th>\n",
       "      <td>0</td>\n",
       "      <td>2</td>\n",
       "      <td>3</td>\n",
       "      <td>0.5</td>\n",
       "    </tr>\n",
       "    <tr>\n",
       "      <th>4</th>\n",
       "      <td>0</td>\n",
       "      <td>2</td>\n",
       "      <td>4</td>\n",
       "      <td>0.5</td>\n",
       "    </tr>\n",
       "    <tr>\n",
       "      <th>5</th>\n",
       "      <td>1</td>\n",
       "      <td>0</td>\n",
       "      <td>4</td>\n",
       "      <td>0.0</td>\n",
       "    </tr>\n",
       "    <tr>\n",
       "      <th>6</th>\n",
       "      <td>2</td>\n",
       "      <td>0</td>\n",
       "      <td>4</td>\n",
       "      <td>0.0</td>\n",
       "    </tr>\n",
       "    <tr>\n",
       "      <th>7</th>\n",
       "      <td>3</td>\n",
       "      <td>0</td>\n",
       "      <td>4</td>\n",
       "      <td>0.0</td>\n",
       "    </tr>\n",
       "  </tbody>\n",
       "</table>\n",
       "</div>"
      ],
      "text/plain": [
       "   s  a  next_s    P\n",
       "0  0  0       4  1.0\n",
       "1  0  1       1  0.5\n",
       "2  0  1       2  0.5\n",
       "3  0  2       3  0.5\n",
       "4  0  2       4  0.5\n",
       "5  1  0       4  0.0\n",
       "6  2  0       4  0.0\n",
       "7  3  0       4  0.0"
      ]
     },
     "execution_count": 8,
     "metadata": {},
     "output_type": "execute_result"
    }
   ],
   "source": [
    "P_df"
   ]
  },
  {
   "cell_type": "code",
   "execution_count": 9,
   "metadata": {},
   "outputs": [
    {
     "data": {
      "text/html": [
       "<div>\n",
       "<style scoped>\n",
       "    .dataframe tbody tr th:only-of-type {\n",
       "        vertical-align: middle;\n",
       "    }\n",
       "\n",
       "    .dataframe tbody tr th {\n",
       "        vertical-align: top;\n",
       "    }\n",
       "\n",
       "    .dataframe thead th {\n",
       "        text-align: right;\n",
       "    }\n",
       "</style>\n",
       "<table border=\"1\" class=\"dataframe\">\n",
       "  <thead>\n",
       "    <tr style=\"text-align: right;\">\n",
       "      <th></th>\n",
       "      <th>S</th>\n",
       "    </tr>\n",
       "  </thead>\n",
       "  <tbody>\n",
       "    <tr>\n",
       "      <th>0</th>\n",
       "      <td>0</td>\n",
       "    </tr>\n",
       "    <tr>\n",
       "      <th>1</th>\n",
       "      <td>1</td>\n",
       "    </tr>\n",
       "    <tr>\n",
       "      <th>2</th>\n",
       "      <td>2</td>\n",
       "    </tr>\n",
       "    <tr>\n",
       "      <th>3</th>\n",
       "      <td>3</td>\n",
       "    </tr>\n",
       "    <tr>\n",
       "      <th>4</th>\n",
       "      <td>4</td>\n",
       "    </tr>\n",
       "  </tbody>\n",
       "</table>\n",
       "</div>"
      ],
      "text/plain": [
       "   S\n",
       "0  0\n",
       "1  1\n",
       "2  2\n",
       "3  3\n",
       "4  4"
      ]
     },
     "execution_count": 9,
     "metadata": {},
     "output_type": "execute_result"
    }
   ],
   "source": [
    "S_df"
   ]
  },
  {
   "cell_type": "code",
   "execution_count": 10,
   "metadata": {},
   "outputs": [
    {
     "name": "stdout",
     "output_type": "stream",
     "text": [
      "0\n",
      "1\n",
      "2\n"
     ]
    }
   ],
   "source": [
    "for a in set(P_df[P_df.s == 0].a):\n",
    "    print(a)"
   ]
  },
  {
   "cell_type": "markdown",
   "metadata": {},
   "source": [
    "## Pandas based Bellman"
   ]
  },
  {
   "cell_type": "code",
   "execution_count": 105,
   "metadata": {},
   "outputs": [
    {
     "name": "stdout",
     "output_type": "stream",
     "text": [
      "Policy: [array([0.5, 0.5]), array([0.5, 0.5]), array([0.5, 0.5]), array([0.5, 0.5])]\n",
      "v[0]=-2.5057415905523253\n",
      "v[1]=-1.6060272426565467\n",
      "v[2]=2.4316473139847745\n",
      "v[3]=7.135350237940245\n",
      "v[4]=0.0\n",
      "q= [array([0., 0.]), array([0., 0.]), array([0., 0.]), array([0., 0.]), 0]\n",
      "q[0][0]=-3.3266059231766705\n",
      "q[0][1]=-1.6848772579279794\n",
      "q[1][0]=-3.3516633390821924\n",
      "q[1][1]=0.13960885376910126\n",
      "q[2][0]=0.0\n",
      "q[2][1]=4.863294627969549\n",
      "q[3][0]=4.270700475880492\n",
      "q[3][1]=10.0\n",
      "Policy:    s  a        pi\n",
      "0  0  0  0.333333\n",
      "1  0  1  0.333333\n",
      "2  0  2  0.333333\n",
      "3  1  0  1.000000\n",
      "4  2  0  1.000000\n",
      "5  3  0  1.000000\n",
      "v[0]=1.495\n",
      "v[1]=1.0\n",
      "v[2]=1.0\n",
      "v[3]=1.0\n",
      "v[4]=0.0\n",
      "q= [array([0., 0., 0.]), array([0.]), array([0.]), array([0.]), 0]\n",
      "q[0][0]=1.0\n",
      "q[0][1]=1.99\n",
      "q[0][2]=1.495\n",
      "q[1][0]=1.0\n",
      "q[2][0]=1.0\n",
      "q[3][0]=1.0\n"
     ]
    }
   ],
   "source": [
    "\"\"\"\n",
    "두 클라스를 공통인 MDP에서 상속하게 만듬. \n",
    "L은 list를 이용하는 방식이고 PD는 pandas를 이용하는 방식임.\n",
    "두 방식에 충돌이 나는 경우, 기반이 되는 MDP에는 공통 요소만 남기고 나머지는 MDP_L에 옮겨둘 예정임.\n",
    "\"\"\"\n",
    "import numpy as np\n",
    "from typing import List\n",
    "import pandas as pd\n",
    "\n",
    "class MDP:\n",
    "    def __init__(self):\n",
    "        self.init_policy_Rsa_Psas()\n",
    "        \n",
    "    def init_policy_Rsa_Psas(self):\n",
    "        # policy[state][action] = 0.9 (<-- prob)\n",
    "        # None state is the last state        \n",
    "        self.policy_actions_table = [['Facebook', 'Quit'], ['Facebook', 'Study'], \n",
    "            ['Sleep', 'Study'], ['Pub', 'Study'], None]\n",
    "        self.Rsa = [[-1,0], [-1,-2], [0, -2], [1,10]]\n",
    "        self.N_states = len(self.policy_actions_table)\n",
    "        self.N_actions_in_s = []\n",
    "        self.policy = []\n",
    "        for actions in self.policy_actions_table:\n",
    "            if actions:\n",
    "                N_actions = len(actions)\n",
    "                self.N_actions_in_s.append(N_actions)\n",
    "                self.policy.append(np.ones(N_actions)/N_actions)\n",
    "            else:\n",
    "                self.N_actions_in_s.append(0)\n",
    "                \n",
    "        # policy가 고려되지 않은 관계임. Policy에 따른 가중에 별도로 고려되어야 함.\n",
    "        self.Psas = np.zeros([self.N_states, 2, self.N_states]) # Probability\n",
    "        self.Psas[0,0,0], self.Psas[0,1,1] = 1.0, 1.0\n",
    "        self.Psas[1,0,0], self.Psas[1,1,2] = 1.0, 1.0\n",
    "        self.Psas[2,0,4], self.Psas[2,1,3] = 1.0, 1.0\n",
    "        self.Psas[3,0,1], self.Psas[3,0,2], \\\n",
    "            self.Psas[3,0,3], self.Psas[3,1,4] = 0.2, 0.4, 0.4, 1.0 \n",
    "        \n",
    "    def init_v(self):\n",
    "        self.v = np.zeros(self.N_states)\n",
    "        \n",
    "    def init_q(self):\n",
    "        self.q = []\n",
    "        for s in range(self.N_states-1):\n",
    "            self.q.append(np.zeros(self.N_actions_in_s[s]))\n",
    "        self.q.append(0)\n",
    "        print('q=', self.q)\n",
    "    \n",
    "    def get_v(self, N_iter:int=10) -> np.ndarray:\n",
    "        self.init_v()\n",
    "        for n in range(N_iter):\n",
    "            for s in range(self.N_states-1):\n",
    "                self.v[s] = (self.v[s] * n + self.bellman_v(s))/(n+1)        \n",
    "        \n",
    "        for s in range(self.N_states):\n",
    "            print(f'v[{s}]={self.v[s]}')\n",
    "        return self.v\n",
    "    \n",
    "    def get_q(self, N_iter:int=10) -> List:\n",
    "        self.init_q()\n",
    "        \n",
    "        for n in range(N_iter):\n",
    "            for s in range(self.N_states-1):\n",
    "                for a in range(self.N_actions_in_s[s]): \n",
    "                    #print(f'[?]s,a={s,a} --> {self.q[s][a]}')\n",
    "                    self.q[s][a] = (self.q[s][a] * n + \n",
    "                        self.bellman_q(s,a))/(n+1)  \n",
    "                    #self.q[s][a] = (self.q[s][a] * n)/(n+1) \n",
    "        \n",
    "        for s in range(self.N_states-1):\n",
    "            for a in range(self.N_actions_in_s[s]):\n",
    "                print(f'q[{s}][{a}]={self.q[s][a]}')\n",
    "        return self.q      \n",
    "    \n",
    "    def bellman_v(self, s:int=0, forgetting_factor:float=1.0) -> float:\n",
    "        Gs = 0\n",
    "        for a in range(len(self.policy[s])):\n",
    "            Gs += self.policy[s][a] * self.bellman_q_by_v(\n",
    "                s=s, a=a, forgetting_factor=forgetting_factor)\n",
    "        return Gs\n",
    "    \n",
    "    def bellman_q_by_v(self, s:int=0, a:int=0, forgetting_factor:float=1.0) -> float:\n",
    "        reward = self.Rsa[s][a]\n",
    "        v_next = 0\n",
    "        for next_s in range(len(self.Psas[s,a])):\n",
    "            if self.Psas[s,a,next_s] and next_s < len(self.v) - 1:\n",
    "                v_next += self.Psas[s,a,next_s] * self.v[next_s]     \n",
    "        Gs = reward + forgetting_factor * v_next\n",
    "        return Gs\n",
    "\n",
    "    def bellman_q(self, s:int=0, a:int=0, forgetting_factor:float=1.0) -> float:\n",
    "        reward = self.Rsa[s][a]\n",
    "        v_next = 0\n",
    "        for next_s in range(len(self.Psas[s,a])):\n",
    "            if self.Psas[s,a,next_s] and next_s < len(self.q) - 1:\n",
    "                v = 0\n",
    "                for next_a in range(len(self.policy[next_s])):\n",
    "                    v += self.policy[next_s][next_a] * self.q[next_s][next_a]\n",
    "                v_next += self.Psas[s,a,next_s] * v     \n",
    "        Gs = reward + forgetting_factor * v_next\n",
    "        return Gs\n",
    "    \n",
    "    def test(self, N_Iter:int=100):\n",
    "        print(f'Policy: {self.policy}')\n",
    "        self.get_v(N_Iter)\n",
    "        self.get_q(N_Iter)\n",
    "\n",
    "class MDP_L(MDP):\n",
    "    def __init__(self):\n",
    "        super().__init__()\n",
    "\n",
    "class MDP_PD(MDP):\n",
    "    def __init__(self):\n",
    "        super().__init__()\n",
    "        \n",
    "    def init_policy_Rsa_Psas(self):\n",
    "        S_df = pd.DataFrame({'S':[0,1,2,3,4]})\n",
    "        self.policy = pd.DataFrame({'s':[0,0,0,1,2,3], 'a':[0,1,2,0,0,0], 'pi':[1/3, 1/3, 1/3, 1, 1, 1]})\n",
    "        self.Rsa = pd.DataFrame({'s':[0,0,0,1,2,3], 'a':[0,1,2,0,0,0], 'R':[1,0,-1/2,0,0,0]})\n",
    "        self.Psas = pd.DataFrame({'s':[0,0,0,0,0,1,2,3], 'a':[0,1,1,2,2,0,0,0], 'next_s':[4,1,2,3,4,4,4,4], 'P':[1,1/2,1/2,1/2,1/2,0,0,0]})\n",
    "        self.N_states = len(S_df)\n",
    "        self.N_actions_in_s = []\n",
    "        for s in range(self.N_states):\n",
    "            self.N_actions_in_s.append(len(self.policy.a[self.policy.s==s]))\n",
    "        \n",
    "    def bellman_v(self, s:int=0, forgetting_factor:float=1.0) -> float:\n",
    "        Gs = 0\n",
    "        policy_s = self.policy[self.policy.s == s]\n",
    "        for a in set(policy_s.a):\n",
    "            policy = policy_s.pi[policy_s.a == a].to_numpy()[0]\n",
    "            Gs += policy * self.bellman_q_by_v(\n",
    "                s=s, a=a, forgetting_factor=forgetting_factor)\n",
    "        # print('Gs =', Gs)\n",
    "        # print('policy =', policy)\n",
    "        return Gs\n",
    "    \n",
    "    def bellman_q_by_v(self, s:int=0, a:int=0, forgetting_factor:float=1.0) -> float:\n",
    "        Rsa = self.Rsa\n",
    "        Psas = self.Psas\n",
    "        reward = Rsa.R[(Rsa['s']==0) & (Rsa['a']==0)][0]\n",
    "        v_next = 0\n",
    "        Psas_sa = Psas[(Psas.s==s) & (Psas.a==a)]\n",
    "        for next_s in set(Psas_sa.next_s):\n",
    "            if len(Psas_sa.P[Psas_sa.next_s==next_s]) and next_s < self.N_states - 1:\n",
    "                # print(Psas_sa.P[Psas_sa.next_s==next_s],Psas_sa.P[Psas_sa.next_s==next_s].to_numpy()[0])\n",
    "                v_next += Psas_sa.P[Psas_sa.next_s==next_s].to_numpy()[0] * self.v[next_s]     \n",
    "        Gs = reward + forgetting_factor * v_next\n",
    "        return Gs\n",
    "\n",
    "    def bellman_q(self, s:int=0, a:int=0, forgetting_factor:float=1.0) -> float:\n",
    "        Rsa = self.Rsa\n",
    "        Psas = self.Psas\n",
    "        reward = Rsa.R[(Rsa['s']==0) & (Rsa['a']==0)][0]\n",
    "        v_next = 0\n",
    "        Psas_sa = Psas[(Psas.s==s) & (Psas.a==a)]\n",
    "        for next_s in set(Psas_sa.next_s):\n",
    "            if len(Psas_sa.P[Psas_sa.next_s==next_s]) and next_s < self.N_states - 1:\n",
    "                v = 0\n",
    "                policy_s = self.policy[self.policy.s == next_s]\n",
    "                for next_a in set(policy_s.a):\n",
    "                    policy = policy_s.pi[policy_s.a == next_a].to_numpy()[0]\n",
    "                    v += policy * self.q[next_s][next_a]\n",
    "                v_next += Psas_sa.P[Psas_sa.next_s==next_s].to_numpy()[0] * v     \n",
    "        Gs = reward + forgetting_factor * v_next\n",
    "        return Gs\n",
    "    \n",
    "    \"\"\"\n",
    "    동일한 루틴이 사용 가능한 경우임. \n",
    "    def init_v(self):\n",
    "        self.v = np.zeros(self.N_states)\n",
    "        \n",
    "    def get_v(self, N_iter:int=10) -> np.ndarray:\n",
    "        self.init_v()\n",
    "        for n in range(N_iter):\n",
    "            for s in range(self.N_states-1):\n",
    "                self.v[s] = (self.v[s] * n + self.calc_bellman_v(s))/(n+1)        \n",
    "        \n",
    "        for s in range(self.N_states):\n",
    "            print(f'v[{s}]={self.v[s]}')\n",
    "        return self.v\n",
    "        \n",
    "    def calc_bellman_v(self, s:int) -> float:\n",
    "        return bellman_v(self.v, self.policy, self.Rsa, self.Psas, s=s)    \n",
    "    \"\"\"\n",
    "\n",
    "MDP_L().test()\n",
    "\n",
    "MDP_PD().test()"
   ]
  },
  {
   "cell_type": "code",
   "execution_count": 12,
   "metadata": {},
   "outputs": [],
   "source": [
    "S_df = pd.DataFrame({'S':[0,1,2,3,4]})\n",
    "policy_df = pd.DataFrame({'s':[0,0,0,1,2,3], 'a':[0,1,2,0,0,0], 'pi':[1/3, 1/3, 1/3, 1, 1, 1]})\n",
    "R_df = pd.DataFrame({'s':[0,0,0,1,2,3], 'a':[0,1,2,0,0,0], 'R':[1,0,-1/2,0,0,0]})\n",
    "P_df = pd.DataFrame({'s':[0,0,0,0,0,1,2,3], 'a':[0,1,1,2,2,0,0,0], 'next_s':[4,1,2,3,4,4,4,4], 'P':[1,1/2,1/2,1/2,1/2,0,0,0]})"
   ]
  },
  {
   "cell_type": "code",
   "execution_count": 13,
   "metadata": {},
   "outputs": [
    {
     "data": {
      "text/plain": [
       "5"
      ]
     },
     "execution_count": 13,
     "metadata": {},
     "output_type": "execute_result"
    }
   ],
   "source": [
    "len(S_df)"
   ]
  },
  {
   "cell_type": "code",
   "execution_count": 30,
   "metadata": {},
   "outputs": [
    {
     "data": {
      "text/html": [
       "<div>\n",
       "<style scoped>\n",
       "    .dataframe tbody tr th:only-of-type {\n",
       "        vertical-align: middle;\n",
       "    }\n",
       "\n",
       "    .dataframe tbody tr th {\n",
       "        vertical-align: top;\n",
       "    }\n",
       "\n",
       "    .dataframe thead th {\n",
       "        text-align: right;\n",
       "    }\n",
       "</style>\n",
       "<table border=\"1\" class=\"dataframe\">\n",
       "  <thead>\n",
       "    <tr style=\"text-align: right;\">\n",
       "      <th></th>\n",
       "      <th>s</th>\n",
       "      <th>a</th>\n",
       "      <th>R</th>\n",
       "    </tr>\n",
       "  </thead>\n",
       "  <tbody>\n",
       "    <tr>\n",
       "      <th>0</th>\n",
       "      <td>0</td>\n",
       "      <td>0</td>\n",
       "      <td>1.0</td>\n",
       "    </tr>\n",
       "    <tr>\n",
       "      <th>1</th>\n",
       "      <td>0</td>\n",
       "      <td>1</td>\n",
       "      <td>0.0</td>\n",
       "    </tr>\n",
       "    <tr>\n",
       "      <th>2</th>\n",
       "      <td>0</td>\n",
       "      <td>2</td>\n",
       "      <td>-0.5</td>\n",
       "    </tr>\n",
       "  </tbody>\n",
       "</table>\n",
       "</div>"
      ],
      "text/plain": [
       "   s  a    R\n",
       "0  0  0  1.0\n",
       "1  0  1  0.0\n",
       "2  0  2 -0.5"
      ]
     },
     "execution_count": 30,
     "metadata": {},
     "output_type": "execute_result"
    }
   ],
   "source": [
    "(R_df[R_df.s == 0])[R_df.a == 0]"
   ]
  },
  {
   "cell_type": "code",
   "execution_count": 25,
   "metadata": {},
   "outputs": [
    {
     "data": {
      "text/plain": [
       "0     True\n",
       "1     True\n",
       "2     True\n",
       "3    False\n",
       "4    False\n",
       "5    False\n",
       "Name: s, dtype: bool"
      ]
     },
     "execution_count": 25,
     "metadata": {},
     "output_type": "execute_result"
    }
   ],
   "source": [
    "R_df.s == 0"
   ]
  },
  {
   "cell_type": "code",
   "execution_count": 26,
   "metadata": {},
   "outputs": [
    {
     "data": {
      "text/plain": [
       "0     True\n",
       "1    False\n",
       "2    False\n",
       "3     True\n",
       "4     True\n",
       "5     True\n",
       "Name: a, dtype: bool"
      ]
     },
     "execution_count": 26,
     "metadata": {},
     "output_type": "execute_result"
    }
   ],
   "source": [
    "R_df.a == 0"
   ]
  },
  {
   "cell_type": "code",
   "execution_count": 32,
   "metadata": {},
   "outputs": [
    {
     "data": {
      "text/plain": [
       "s    0.0\n",
       "a    0.0\n",
       "R    1.0\n",
       "Name: 0, dtype: float64"
      ]
     },
     "execution_count": 32,
     "metadata": {},
     "output_type": "execute_result"
    }
   ],
   "source": [
    "R_df.loc[0]"
   ]
  },
  {
   "cell_type": "code",
   "execution_count": 35,
   "metadata": {},
   "outputs": [
    {
     "data": {
      "text/plain": [
       "0    0\n",
       "1    0\n",
       "2    0\n",
       "3    1\n",
       "4    2\n",
       "5    3\n",
       "Name: s, dtype: int64"
      ]
     },
     "execution_count": 35,
     "metadata": {},
     "output_type": "execute_result"
    }
   ],
   "source": [
    "R_df['s']"
   ]
  },
  {
   "cell_type": "code",
   "execution_count": 36,
   "metadata": {},
   "outputs": [],
   "source": [
    "stock_df = pd.DataFrame({'symbol': ['AAPL', 'AAPL', 'F', 'F', 'F'], \n",
    "                         'date': ['2016-1-1', '2016-1-2', '2016-1-1', '2016-1-2', '2016-1-3'], \n",
    "                         'price': [100., 101, 50, 47.5, 49]}).set_index(['symbol', 'date'])"
   ]
  },
  {
   "cell_type": "code",
   "execution_count": 37,
   "metadata": {},
   "outputs": [
    {
     "data": {
      "text/html": [
       "<div>\n",
       "<style scoped>\n",
       "    .dataframe tbody tr th:only-of-type {\n",
       "        vertical-align: middle;\n",
       "    }\n",
       "\n",
       "    .dataframe tbody tr th {\n",
       "        vertical-align: top;\n",
       "    }\n",
       "\n",
       "    .dataframe thead th {\n",
       "        text-align: right;\n",
       "    }\n",
       "</style>\n",
       "<table border=\"1\" class=\"dataframe\">\n",
       "  <thead>\n",
       "    <tr style=\"text-align: right;\">\n",
       "      <th></th>\n",
       "      <th></th>\n",
       "      <th>price</th>\n",
       "    </tr>\n",
       "    <tr>\n",
       "      <th>symbol</th>\n",
       "      <th>date</th>\n",
       "      <th></th>\n",
       "    </tr>\n",
       "  </thead>\n",
       "  <tbody>\n",
       "    <tr>\n",
       "      <th rowspan=\"2\" valign=\"top\">AAPL</th>\n",
       "      <th>2016-1-1</th>\n",
       "      <td>100.0</td>\n",
       "    </tr>\n",
       "    <tr>\n",
       "      <th>2016-1-2</th>\n",
       "      <td>101.0</td>\n",
       "    </tr>\n",
       "    <tr>\n",
       "      <th rowspan=\"3\" valign=\"top\">F</th>\n",
       "      <th>2016-1-1</th>\n",
       "      <td>50.0</td>\n",
       "    </tr>\n",
       "    <tr>\n",
       "      <th>2016-1-2</th>\n",
       "      <td>47.5</td>\n",
       "    </tr>\n",
       "    <tr>\n",
       "      <th>2016-1-3</th>\n",
       "      <td>49.0</td>\n",
       "    </tr>\n",
       "  </tbody>\n",
       "</table>\n",
       "</div>"
      ],
      "text/plain": [
       "                 price\n",
       "symbol date           \n",
       "AAPL   2016-1-1  100.0\n",
       "       2016-1-2  101.0\n",
       "F      2016-1-1   50.0\n",
       "       2016-1-2   47.5\n",
       "       2016-1-3   49.0"
      ]
     },
     "execution_count": 37,
     "metadata": {},
     "output_type": "execute_result"
    }
   ],
   "source": [
    "stock_df"
   ]
  },
  {
   "cell_type": "code",
   "execution_count": 39,
   "metadata": {},
   "outputs": [
    {
     "data": {
      "text/plain": [
       "price    100.0\n",
       "Name: (AAPL, 2016-1-1), dtype: float64"
      ]
     },
     "execution_count": 39,
     "metadata": {},
     "output_type": "execute_result"
    }
   ],
   "source": [
    "stock_df.loc['AAPL','2016-1-1']"
   ]
  },
  {
   "cell_type": "code",
   "execution_count": 40,
   "metadata": {},
   "outputs": [
    {
     "data": {
      "text/html": [
       "<div>\n",
       "<style scoped>\n",
       "    .dataframe tbody tr th:only-of-type {\n",
       "        vertical-align: middle;\n",
       "    }\n",
       "\n",
       "    .dataframe tbody tr th {\n",
       "        vertical-align: top;\n",
       "    }\n",
       "\n",
       "    .dataframe thead th {\n",
       "        text-align: right;\n",
       "    }\n",
       "</style>\n",
       "<table border=\"1\" class=\"dataframe\">\n",
       "  <thead>\n",
       "    <tr style=\"text-align: right;\">\n",
       "      <th></th>\n",
       "      <th>s</th>\n",
       "      <th>a</th>\n",
       "      <th>R</th>\n",
       "    </tr>\n",
       "  </thead>\n",
       "  <tbody>\n",
       "    <tr>\n",
       "      <th>0</th>\n",
       "      <td>0</td>\n",
       "      <td>0</td>\n",
       "      <td>1.0</td>\n",
       "    </tr>\n",
       "    <tr>\n",
       "      <th>1</th>\n",
       "      <td>0</td>\n",
       "      <td>1</td>\n",
       "      <td>0.0</td>\n",
       "    </tr>\n",
       "    <tr>\n",
       "      <th>2</th>\n",
       "      <td>0</td>\n",
       "      <td>2</td>\n",
       "      <td>-0.5</td>\n",
       "    </tr>\n",
       "    <tr>\n",
       "      <th>3</th>\n",
       "      <td>1</td>\n",
       "      <td>0</td>\n",
       "      <td>0.0</td>\n",
       "    </tr>\n",
       "    <tr>\n",
       "      <th>4</th>\n",
       "      <td>2</td>\n",
       "      <td>0</td>\n",
       "      <td>0.0</td>\n",
       "    </tr>\n",
       "    <tr>\n",
       "      <th>5</th>\n",
       "      <td>3</td>\n",
       "      <td>0</td>\n",
       "      <td>0.0</td>\n",
       "    </tr>\n",
       "  </tbody>\n",
       "</table>\n",
       "</div>"
      ],
      "text/plain": [
       "   s  a    R\n",
       "0  0  0  1.0\n",
       "1  0  1  0.0\n",
       "2  0  2 -0.5\n",
       "3  1  0  0.0\n",
       "4  2  0  0.0\n",
       "5  3  0  0.0"
      ]
     },
     "execution_count": 40,
     "metadata": {},
     "output_type": "execute_result"
    }
   ],
   "source": [
    "R_df"
   ]
  },
  {
   "cell_type": "code",
   "execution_count": 62,
   "metadata": {},
   "outputs": [
    {
     "data": {
      "text/plain": [
       "1.0"
      ]
     },
     "execution_count": 62,
     "metadata": {},
     "output_type": "execute_result"
    }
   ],
   "source": [
    "R_df.R[(R_df['s']==0) & (R_df['a']==0)].to_numpy()[0]"
   ]
  },
  {
   "cell_type": "code",
   "execution_count": 58,
   "metadata": {},
   "outputs": [
    {
     "data": {
      "text/plain": [
       "0    1.0\n",
       "Name: R, dtype: float64"
      ]
     },
     "execution_count": 58,
     "metadata": {},
     "output_type": "execute_result"
    }
   ],
   "source": [
    "x = R_df.R[(R_df['s']==0) & (R_df['a']==0)]\n",
    "x"
   ]
  },
  {
   "cell_type": "code",
   "execution_count": 61,
   "metadata": {},
   "outputs": [
    {
     "data": {
      "text/plain": [
       "array([1.])"
      ]
     },
     "execution_count": 61,
     "metadata": {},
     "output_type": "execute_result"
    }
   ],
   "source": [
    "x.to_numpy()"
   ]
  },
  {
   "cell_type": "code",
   "execution_count": 64,
   "metadata": {},
   "outputs": [
    {
     "data": {
      "text/plain": [
       "1.0"
      ]
     },
     "execution_count": 64,
     "metadata": {},
     "output_type": "execute_result"
    }
   ],
   "source": [
    "R_df.R[(R_df.s==0) & (R_df.a==0)].to_numpy()[0]"
   ]
  },
  {
   "cell_type": "code",
   "execution_count": 83,
   "metadata": {},
   "outputs": [
    {
     "name": "stdout",
     "output_type": "stream",
     "text": [
      "Hi\n"
     ]
    }
   ],
   "source": [
    "S_df = pd.DataFrame({'S':[0,1,2,3,4]})\n",
    "policy = pd.DataFrame({'s':[0,0,0,1,2,3], 'a':[0,1,2,0,0,0], 'pi':[1/3, 1/3, 1/3, 1, 1, 1]})\n",
    "Rsa = pd.DataFrame({'s':[0,0,0,1,2,3], 'a':[0,1,2,0,0,0], 'R':[1,0,-1/2,0,0,0]})\n",
    "Psas = pd.DataFrame({'s':[0,0,0,0,0,1,2,3], 'a':[0,1,1,2,2,0,0,0], 'next_s':[4,1,2,3,4,4,4,4], 'P':[1,1/2,1/2,1/2,1/2,0,0,0]})\n",
    "\n",
    "s, a, next_s = 0, 0, 4\n",
    "Psas_sa = Psas[(Psas.s==s) & (Psas.a==a)]\n",
    "if len(Psas_sa.P[Psas_sa.next_s==next_s]):\n",
    "    print('Hi')"
   ]
  },
  {
   "cell_type": "code",
   "execution_count": 81,
   "metadata": {},
   "outputs": [
    {
     "data": {
      "text/plain": [
       "0"
      ]
     },
     "execution_count": 81,
     "metadata": {},
     "output_type": "execute_result"
    }
   ],
   "source": [
    "len(Psas_sa.P[Psas_sa.next_s==next_s])"
   ]
  },
  {
   "cell_type": "code",
   "execution_count": null,
   "metadata": {},
   "outputs": [],
   "source": []
  }
 ],
 "metadata": {
  "kernelspec": {
   "display_name": "tf2",
   "language": "python",
   "name": "tf2"
  },
  "language_info": {
   "codemirror_mode": {
    "name": "ipython",
    "version": 3
   },
   "file_extension": ".py",
   "mimetype": "text/x-python",
   "name": "python",
   "nbconvert_exporter": "python",
   "pygments_lexer": "ipython3",
   "version": "3.6.12"
  }
 },
 "nbformat": 4,
 "nbformat_minor": 4
}
