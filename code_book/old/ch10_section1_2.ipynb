{
 "cells": [
  {
   "cell_type": "code",
   "execution_count": 1,
   "metadata": {},
   "outputs": [],
   "source": [
    "%load_ext autoreload\n",
    "%autoreload 2"
   ]
  },
  {
   "cell_type": "code",
   "execution_count": 2,
   "metadata": {},
   "outputs": [],
   "source": [
    "import tictactoe\n",
    "from tictactoe import calc_reward_numba, MASK_L\n",
    "\n",
    "import numpy as np"
   ]
  },
  {
   "cell_type": "markdown",
   "metadata": {},
   "source": [
    "## 벨만 기대 방적식을 통해 Qsa 구하기"
   ]
  },
  {
   "cell_type": "code",
   "execution_count": 3,
   "metadata": {},
   "outputs": [],
   "source": [
    "def fact(N):\n",
    "    return np.prod(range(1,N+1))\n",
    "\n",
    "def comb(N: int, M: int):\n",
    "    if M == 0:\n",
    "        return 0\n",
    "    else:\n",
    "        return np.prod(range(N-M+1, N+1))"
   ]
  },
  {
   "cell_type": "code",
   "execution_count": 4,
   "metadata": {},
   "outputs": [
    {
     "data": {
      "text/plain": [
       "72"
      ]
     },
     "execution_count": 4,
     "metadata": {},
     "output_type": "execute_result"
    }
   ],
   "source": [
    "comb(9,2)"
   ]
  },
  {
   "cell_type": "code",
   "execution_count": 5,
   "metadata": {},
   "outputs": [
    {
     "data": {
      "text/plain": [
       "362880"
      ]
     },
     "execution_count": 5,
     "metadata": {},
     "output_type": "execute_result"
    }
   ],
   "source": [
    "comb(9,9)"
   ]
  },
  {
   "cell_type": "code",
   "execution_count": 22,
   "metadata": {},
   "outputs": [
    {
     "name": "stdout",
     "output_type": "stream",
     "text": [
      "(0,)\n",
      "(72,)\n",
      "(3024,)\n",
      "(60480,)\n",
      "(362880,)\n",
      "(9,)\n",
      "(504,)\n",
      "(15120,)\n",
      "(181440,)\n"
     ]
    }
   ],
   "source": [
    "class ActionValueFunc:\n",
    "    def __init__(self):\n",
    "        self.Qsa = [\n",
    "            [], # O 플레이어\n",
    "            []  # X 플레이어 \n",
    "        ]\n",
    "\n",
    "        # O 플레이어를 위한 Qsa 함수값 초기화 \n",
    "        for stage in range(5):\n",
    "            n_positions = comb(9,stage*2)\n",
    "            self.Qsa[0].append(np.zeros(n_positions))\n",
    "            print(self.Qsa[0][stage].shape)\n",
    "            \n",
    "        # O 플레이어를 위한 Qsa 함수값 초기화 \n",
    "        for stage in range(4):\n",
    "            n_positions = comb(9,1 + stage*2)\n",
    "            self.Qsa[1].append(np.zeros(n_positions))\n",
    "            print(self.Qsa[1][stage].shape)\n",
    "            \n",
    "    def update_Qsa(self, player, stage, position_list, action):\n",
    "        \"\"\"\n",
    "        먼저 시작한 O 플레이어의 Qsa[S,A]를 구하기 위해서는 Action에 따라 \n",
    "        새로운 O가 놓여지는 위치에 따라 게임이 승리로 끝났는지 살핀다\n",
    "        게임이 끝나지 않았다면 action까지 포함한 전체 돌의 수가 9 보다 적은지 살핀다. \n",
    "        상기 상황이 맞다면 상대방 돌인 X의 위치를 나머지에 포진 시킨다. \n",
    "        이때 상대방은 일단 무작위 정책을 사용한다 가정한다.\n",
    "        무작위 정책에 더불어 반드시 놓을 곳, 막아야 하는 곳은 인지한다는 가정하의 정책도 고려할 예정임.\n",
    "        이렇게 필수 규칙은 O 플레이어의 경우에도 적용해 Q[S,A]를 구하게 하는 것도 가능할거 같음. (검증 필요)\n",
    "        예를 들어 첫 스테이지라면 O는 9가지중에 1가지로 정해졌지만, X의 위치에 따른 8가지 상태는 고려되어야 함. \n",
    "        X의 위치별로 reward가 정해지게 되고 (이때 X위치는 무작위로 확률값을 우선 계산하지 않았음),\n",
    "        X의 위치 8개 각각에 대해 sum_A PI(A|S)*Q[S,A] for k+1를 구해 Qsa[S,A] 값의 업데이에 반영함. \n",
    "        \"\"\"\n",
    "        assert len(position_list) < 9, 'len(position_list) should be less than 9'\n",
    "        def calc_reward(position_list, action):\n",
    "            S = np.zeros(9, dtype=int)\n",
    "            now_player = player + 1\n",
    "            for p in position_list:\n",
    "                S[p] = now_player\n",
    "                now_player = 1 if now_player == 2 else 2\n",
    "                #print('S =', S)\n",
    "            # assert now_player == player + 1\n",
    "            S[action] = now_player \n",
    "            print('S = ', S)\n",
    "            reward = calc_reward_numba(MASK_L, S)\n",
    "            #print(reward)\n",
    "            reward = -1 if reward == 2 else reward\n",
    "            #print(reward)\n",
    "            return reward\n",
    "\n",
    "        if player == 0:\n",
    "            reward = calc_reward(position_list, action) \n",
    "            # Qsa_k1 is not exist  \n",
    "            if reward == 0 and len(position_list) + 1 < 9:\n",
    "                op_action_list = action_list.copy()\n",
    "                op_action_list.remove(action)\n",
    "                reward_list = []\n",
    "                for op_action in op_action_list:\n",
    "                    # 만약, 상대방의 정책이 무작위가 아니라 non-uniform이라면 해당 값을 곱해야 함.\n",
    "                    reward_i = calc_reward(position_list + [action], op_action) # * op_policy(state, op_action)\n",
    "                    reward_list.append(reward_i)\n",
    "                reward = np.mean(reward_list)\n",
    "            print(reward)  \n",
    "        \n",
    "# def get_Qsa(Qsa, player, stage, position, action):  \n",
    "\n",
    "Qsa = ActionValueFunc()"
   ]
  },
  {
   "cell_type": "code",
   "execution_count": 23,
   "metadata": {},
   "outputs": [
    {
     "data": {
      "text/plain": [
       "181440"
      ]
     },
     "execution_count": 23,
     "metadata": {},
     "output_type": "execute_result"
    }
   ],
   "source": [
    "comb(9,7)"
   ]
  },
  {
   "cell_type": "code",
   "execution_count": 46,
   "metadata": {},
   "outputs": [
    {
     "name": "stdout",
     "output_type": "stream",
     "text": [
      "(0,)\n",
      "(72,)\n",
      "(3024,)\n",
      "(60480,)\n",
      "(362880,)\n",
      "(9,)\n",
      "(504,)\n",
      "(15120,)\n",
      "(181440,)\n",
      "S =  [1 0 0 0 0 0 0 0 0]\n",
      "S =  [1 2 0 0 0 0 0 0 0]\n",
      "S =  [1 0 2 0 0 0 0 0 0]\n",
      "S =  [1 0 0 2 0 0 0 0 0]\n",
      "S =  [1 0 0 0 2 0 0 0 0]\n",
      "S =  [1 0 0 0 0 2 0 0 0]\n",
      "S =  [1 0 0 0 0 0 2 0 0]\n",
      "S =  [1 0 0 0 0 0 0 2 0]\n",
      "S =  [1 0 0 0 0 0 0 0 2]\n",
      "0.0\n",
      "S =  [0 1 0 0 0 0 0 0 0]\n",
      "S =  [2 1 0 0 0 0 0 0 0]\n",
      "S =  [0 1 2 0 0 0 0 0 0]\n",
      "S =  [0 1 0 2 0 0 0 0 0]\n",
      "S =  [0 1 0 0 2 0 0 0 0]\n",
      "S =  [0 1 0 0 0 2 0 0 0]\n",
      "S =  [0 1 0 0 0 0 2 0 0]\n",
      "S =  [0 1 0 0 0 0 0 2 0]\n",
      "S =  [0 1 0 0 0 0 0 0 2]\n",
      "0.0\n",
      "S =  [0 0 1 0 0 0 0 0 0]\n",
      "S =  [2 0 1 0 0 0 0 0 0]\n",
      "S =  [0 2 1 0 0 0 0 0 0]\n",
      "S =  [0 0 1 2 0 0 0 0 0]\n",
      "S =  [0 0 1 0 2 0 0 0 0]\n",
      "S =  [0 0 1 0 0 2 0 0 0]\n",
      "S =  [0 0 1 0 0 0 2 0 0]\n",
      "S =  [0 0 1 0 0 0 0 2 0]\n",
      "S =  [0 0 1 0 0 0 0 0 2]\n",
      "0.0\n",
      "S =  [0 0 0 1 0 0 0 0 0]\n",
      "S =  [2 0 0 1 0 0 0 0 0]\n",
      "S =  [0 2 0 1 0 0 0 0 0]\n",
      "S =  [0 0 2 1 0 0 0 0 0]\n",
      "S =  [0 0 0 1 2 0 0 0 0]\n",
      "S =  [0 0 0 1 0 2 0 0 0]\n",
      "S =  [0 0 0 1 0 0 2 0 0]\n",
      "S =  [0 0 0 1 0 0 0 2 0]\n",
      "S =  [0 0 0 1 0 0 0 0 2]\n",
      "0.0\n",
      "S =  [0 0 0 0 1 0 0 0 0]\n",
      "S =  [2 0 0 0 1 0 0 0 0]\n",
      "S =  [0 2 0 0 1 0 0 0 0]\n",
      "S =  [0 0 2 0 1 0 0 0 0]\n",
      "S =  [0 0 0 2 1 0 0 0 0]\n",
      "S =  [0 0 0 0 1 2 0 0 0]\n",
      "S =  [0 0 0 0 1 0 2 0 0]\n",
      "S =  [0 0 0 0 1 0 0 2 0]\n",
      "S =  [0 0 0 0 1 0 0 0 2]\n",
      "0.0\n",
      "S =  [0 0 0 0 0 1 0 0 0]\n",
      "S =  [2 0 0 0 0 1 0 0 0]\n",
      "S =  [0 2 0 0 0 1 0 0 0]\n",
      "S =  [0 0 2 0 0 1 0 0 0]\n",
      "S =  [0 0 0 2 0 1 0 0 0]\n",
      "S =  [0 0 0 0 2 1 0 0 0]\n",
      "S =  [0 0 0 0 0 1 2 0 0]\n",
      "S =  [0 0 0 0 0 1 0 2 0]\n",
      "S =  [0 0 0 0 0 1 0 0 2]\n",
      "0.0\n",
      "S =  [0 0 0 0 0 0 1 0 0]\n",
      "S =  [2 0 0 0 0 0 1 0 0]\n",
      "S =  [0 2 0 0 0 0 1 0 0]\n",
      "S =  [0 0 2 0 0 0 1 0 0]\n",
      "S =  [0 0 0 2 0 0 1 0 0]\n",
      "S =  [0 0 0 0 2 0 1 0 0]\n",
      "S =  [0 0 0 0 0 2 1 0 0]\n",
      "S =  [0 0 0 0 0 0 1 2 0]\n",
      "S =  [0 0 0 0 0 0 1 0 2]\n",
      "0.0\n",
      "S =  [0 0 0 0 0 0 0 1 0]\n",
      "S =  [2 0 0 0 0 0 0 1 0]\n",
      "S =  [0 2 0 0 0 0 0 1 0]\n",
      "S =  [0 0 2 0 0 0 0 1 0]\n",
      "S =  [0 0 0 2 0 0 0 1 0]\n",
      "S =  [0 0 0 0 2 0 0 1 0]\n",
      "S =  [0 0 0 0 0 2 0 1 0]\n",
      "S =  [0 0 0 0 0 0 2 1 0]\n",
      "S =  [0 0 0 0 0 0 0 1 2]\n",
      "0.0\n",
      "S =  [0 0 0 0 0 0 0 0 1]\n",
      "S =  [2 0 0 0 0 0 0 0 1]\n",
      "S =  [0 2 0 0 0 0 0 0 1]\n",
      "S =  [0 0 2 0 0 0 0 0 1]\n",
      "S =  [0 0 0 2 0 0 0 0 1]\n",
      "S =  [0 0 0 0 2 0 0 0 1]\n",
      "S =  [0 0 0 0 0 2 0 0 1]\n",
      "S =  [0 0 0 0 0 0 2 0 1]\n",
      "S =  [0 0 0 0 0 0 0 2 1]\n",
      "0.0\n"
     ]
    }
   ],
   "source": [
    "def get_Qsa(Qsa, player, stage, position_list, action_list):\n",
    "    def calc_reward(position_list, action):\n",
    "        S = np.zeros(9, dtype=int)\n",
    "        now_player = player + 1\n",
    "        for p in position_list:\n",
    "            S[p] = now_player\n",
    "            now_player = 1 if now_player == 2 else 2\n",
    "            #print('S =', S)\n",
    "        # assert now_player == player + 1\n",
    "        S[action] = now_player \n",
    "        print('S = ', S)\n",
    "        reward = calc_reward_numba(MASK_L, S)\n",
    "        #print(reward)\n",
    "        reward = -1 if reward == 2 else reward\n",
    "        #print(reward)\n",
    "        return reward\n",
    "        \n",
    "    if player == 0:\n",
    "        # calc reward\n",
    "        # Qsa[player, stage, position] = \n",
    "        for action in action_list:\n",
    "            # E[r + gamma*Qsa]을 계산할 떄 각 policy(state, action)을 전체에 곱해야 함\n",
    "            # 즉, (r + gamma*Qsa) * policy(state, action)이 되어야 함. \n",
    "            # policy(state, action)이 만약 0라면 계산에 반영할 필요가 없음.\n",
    "            reward = calc_reward(position_list, action) \n",
    "            if reward ==0 and len(position_list) + 1 < 9:\n",
    "                op_action_list = action_list.copy()\n",
    "                op_action_list.remove(action)\n",
    "                reward_list = []\n",
    "                for op_action in op_action_list:\n",
    "                    # 만약, 상대방의 정책이 무작위가 아니라 non-uniform이라면 해당 값을 곱해야 함.\n",
    "                    reward_i = calc_reward(position_list + [action], op_action) # * op_policy(state, op_action)\n",
    "                    reward_list.append(reward_i)\n",
    "                reward = np.mean(reward_list)\n",
    "            print(reward)\n",
    "\n",
    "Qsa = ActionValueFunc()\n",
    "get_Qsa(Qsa, 0, 0, [], list(range(9)))"
   ]
  },
  {
   "cell_type": "code",
   "execution_count": 35,
   "metadata": {},
   "outputs": [],
   "source": [
    "action = [1,2,3]\n",
    "action.remove(2)"
   ]
  },
  {
   "cell_type": "code",
   "execution_count": 37,
   "metadata": {},
   "outputs": [
    {
     "data": {
      "text/plain": [
       "[1, 3]"
      ]
     },
     "execution_count": 37,
     "metadata": {},
     "output_type": "execute_result"
    }
   ],
   "source": [
    "action "
   ]
  },
  {
   "cell_type": "code",
   "execution_count": null,
   "metadata": {},
   "outputs": [],
   "source": []
  }
 ],
 "metadata": {
  "kernelspec": {
   "display_name": "tf2",
   "language": "python",
   "name": "tf2"
  },
  "language_info": {
   "codemirror_mode": {
    "name": "ipython",
    "version": 3
   },
   "file_extension": ".py",
   "mimetype": "text/x-python",
   "name": "python",
   "nbconvert_exporter": "python",
   "pygments_lexer": "ipython3",
   "version": "3.8.5"
  }
 },
 "nbformat": 4,
 "nbformat_minor": 4
}
