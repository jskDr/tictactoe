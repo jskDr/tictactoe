{
 "cells": [
  {
   "cell_type": "code",
   "execution_count": 1,
   "metadata": {},
   "outputs": [],
   "source": [
    "%load_ext autoreload\n",
    "%autoreload 2"
   ]
  },
  {
   "cell_type": "code",
   "execution_count": 2,
   "metadata": {},
   "outputs": [],
   "source": [
    "import tictactoe\n",
    "import numpy as np"
   ]
  },
  {
   "cell_type": "code",
   "execution_count": 3,
   "metadata": {},
   "outputs": [
    {
     "name": "stdout",
     "output_type": "stream",
     "text": [
      "40320\n",
      "40320\n",
      "40320\n",
      "40320\n",
      "40320\n",
      "40320\n",
      "40320\n",
      "40320\n",
      "40320\n"
     ]
    }
   ],
   "source": [
    "Qsa_dict = tictactoe.calc_Qsa_list()"
   ]
  },
  {
   "cell_type": "code",
   "execution_count": 4,
   "metadata": {},
   "outputs": [
    {
     "data": {
      "text/plain": [
       "{'win': [0.6071428571428571,\n",
       "  0.5357142857142857,\n",
       "  0.6071428571428571,\n",
       "  0.5357142857142857,\n",
       "  0.6928571428571428,\n",
       "  0.5357142857142857,\n",
       "  0.6071428571428571,\n",
       "  0.5357142857142857,\n",
       "  0.6071428571428571],\n",
       " 'lose': [0.2642857142857143,\n",
       "  0.3357142857142857,\n",
       "  0.2642857142857143,\n",
       "  0.3357142857142857,\n",
       "  0.19285714285714287,\n",
       "  0.3357142857142857,\n",
       "  0.2642857142857143,\n",
       "  0.3357142857142857,\n",
       "  0.2642857142857143],\n",
       " 'tie': [0.12857142857142856,\n",
       "  0.12857142857142856,\n",
       "  0.12857142857142856,\n",
       "  0.12857142857142856,\n",
       "  0.11428571428571428,\n",
       "  0.12857142857142856,\n",
       "  0.12857142857142856,\n",
       "  0.12857142857142856,\n",
       "  0.12857142857142856]}"
      ]
     },
     "execution_count": 4,
     "metadata": {},
     "output_type": "execute_result"
    }
   ],
   "source": [
    "Qsa_dict"
   ]
  },
  {
   "cell_type": "code",
   "execution_count": 5,
   "metadata": {},
   "outputs": [
    {
     "data": {
      "text/plain": [
       "array([0.34285714, 0.2       , 0.34285714, 0.2       , 0.5       ,\n",
       "       0.2       , 0.34285714, 0.2       , 0.34285714])"
      ]
     },
     "execution_count": 5,
     "metadata": {},
     "output_type": "execute_result"
    }
   ],
   "source": [
    "Qsa_a = np.array(Qsa_dict['win']) - np.array(Qsa_dict['lose'])\n",
    "Qsa_a"
   ]
  },
  {
   "cell_type": "code",
   "execution_count": 6,
   "metadata": {},
   "outputs": [
    {
     "data": {
      "text/plain": [
       "array([[0.34285714, 0.2       , 0.34285714],\n",
       "       [0.2       , 0.5       , 0.2       ],\n",
       "       [0.34285714, 0.2       , 0.34285714]])"
      ]
     },
     "execution_count": 6,
     "metadata": {},
     "output_type": "execute_result"
    }
   ],
   "source": [
    "Qsa_a.reshape(3,3)"
   ]
  },
  {
   "cell_type": "code",
   "execution_count": 10,
   "metadata": {},
   "outputs": [
    {
     "data": {
      "text/plain": [
       "0.2968253968253968"
      ]
     },
     "execution_count": 10,
     "metadata": {},
     "output_type": "execute_result"
    }
   ],
   "source": [
    "np.mean(Qsa_a)"
   ]
  },
  {
   "cell_type": "code",
   "execution_count": 11,
   "metadata": {},
   "outputs": [
    {
     "data": {
      "text/plain": [
       "array([-0.34285714, -0.2       , -0.34285714, -0.2       , -0.5       ,\n",
       "       -0.2       , -0.34285714, -0.2       , -0.34285714])"
      ]
     },
     "execution_count": 11,
     "metadata": {},
     "output_type": "execute_result"
    }
   ],
   "source": [
    "Qsa_b = np.array(Qsa_dict['lose']) - np.array(Qsa_dict['win'])\n",
    "Qsa_b"
   ]
  },
  {
   "cell_type": "code",
   "execution_count": 12,
   "metadata": {},
   "outputs": [
    {
     "data": {
      "text/plain": [
       "-0.2968253968253968"
      ]
     },
     "execution_count": 12,
     "metadata": {},
     "output_type": "execute_result"
    }
   ],
   "source": [
    "np.mean(Qsa_b)"
   ]
  },
  {
   "cell_type": "code",
   "execution_count": 6,
   "metadata": {},
   "outputs": [
    {
     "data": {
      "text/plain": [
       "362880"
      ]
     },
     "execution_count": 6,
     "metadata": {},
     "output_type": "execute_result"
    }
   ],
   "source": [
    "np.prod(range(2, 10))"
   ]
  },
  {
   "cell_type": "code",
   "execution_count": 7,
   "metadata": {},
   "outputs": [
    {
     "data": {
      "text/plain": [
       "40320"
      ]
     },
     "execution_count": 7,
     "metadata": {},
     "output_type": "execute_result"
    }
   ],
   "source": [
    "np.prod(range(2, 9))"
   ]
  },
  {
   "cell_type": "code",
   "execution_count": null,
   "metadata": {},
   "outputs": [],
   "source": []
  }
 ],
 "metadata": {
  "kernelspec": {
   "display_name": "tf2",
   "language": "python",
   "name": "tf2"
  },
  "language_info": {
   "codemirror_mode": {
    "name": "ipython",
    "version": 3
   },
   "file_extension": ".py",
   "mimetype": "text/x-python",
   "name": "python",
   "nbconvert_exporter": "python",
   "pygments_lexer": "ipython3",
   "version": "3.8.5"
  }
 },
 "nbformat": 4,
 "nbformat_minor": 4
}
