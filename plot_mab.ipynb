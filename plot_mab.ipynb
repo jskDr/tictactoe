{
 "cells": [
  {
   "cell_type": "code",
   "execution_count": 1,
   "metadata": {},
   "outputs": [],
   "source": [
    "%load_ext autoreload\n",
    "%autoreload 2\n",
    "import mab\n",
    "import numpy as np\n",
    "import pandas as pd\n",
    "import seaborn as sns"
   ]
  },
  {
   "cell_type": "code",
   "execution_count": null,
   "metadata": {},
   "outputs": [],
   "source": [
    "T_interval = 100\n",
    "N_actions=10\n",
    "N_episodes=10000\n",
    "N_repeats = 10\n",
    "epsilon=0.1\n",
    "mu_a = np.zeros(N_actions, dtype=float) + 0.5 - epsilon\n",
    "mu_a[0] = 0.5\n",
    "regrets_a_ts_repeat = mab.mab_bernoulli_fn_episodes_repeats(mu_a, N_actions=N_actions, N_episodes=N_episodes, N_repeats=N_repeats, fn_run=mab.mab_bernoulli_ts_run)\n",
    "regrets_a_greedy_repeat = mab.mab_bernoulli_fn_episodes_repeats(mu_a, N_actions=N_actions, N_episodes=N_episodes, N_repeats=N_repeats, fn_run=mab.mab_bernoulli_greedy_run)\n",
    "regrets_a_lb = mab.mab_bernoulli_low_bound(mu_a, N_actions=N_actions, N_episodes=N_episodes)\n",
    "\n",
    "regrets_d = {'TS':regrets_a_ts_repeat[:,::T_interval], 'Greedy':regrets_a_greedy_repeat[:,::T_interval]}    \n",
    "mab.sns_lineplot_dic(regrets_d, T_interval=T_interval)"
   ]
  },
  {
   "cell_type": "code",
   "execution_count": null,
   "metadata": {},
   "outputs": [],
   "source": []
  }
 ],
 "metadata": {
  "kernelspec": {
   "display_name": "tf2",
   "language": "python",
   "name": "tf2"
  },
  "language_info": {
   "codemirror_mode": {
    "name": "ipython",
    "version": 3
   },
   "file_extension": ".py",
   "mimetype": "text/x-python",
   "name": "python",
   "nbconvert_exporter": "python",
   "pygments_lexer": "ipython3",
   "version": "3.7.7"
  }
 },
 "nbformat": 4,
 "nbformat_minor": 4
}
