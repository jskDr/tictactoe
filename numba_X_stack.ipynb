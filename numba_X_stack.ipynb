{
 "cells": [
  {
   "cell_type": "code",
   "execution_count": 1,
   "metadata": {},
   "outputs": [],
   "source": [
    "%load_ext autoreload\n",
    "%autoreload 2\n",
    "import tictactoe\n",
    "import cProfile\n",
    "import numpy as np\n",
    "import math"
   ]
  },
  {
   "cell_type": "code",
   "execution_count": 2,
   "metadata": {},
   "outputs": [],
   "source": [
    "S = [0]*9\n",
    "action_list = [0,1,2,3,4,5]\n",
    "N_A = 9\n",
    "sqrt_n_a = int(math.sqrt(N_A))"
   ]
  },
  {
   "cell_type": "code",
   "execution_count": 3,
   "metadata": {},
   "outputs": [],
   "source": [
    "def foo_numba_1():\n",
    "    for i in range(1000):\n",
    "        # action_list = list(range(i%9+1))\n",
    "        S_array_2d = np.array(S).reshape(sqrt_n_a, sqrt_n_a)\n",
    "        X_in_stack = tictactoe.get_X_in_stack_numba(N_A, sqrt_n_a, np.array(action_list), S_array_2d)\n",
    "        \n",
    "def foo_1():\n",
    "    for i in range(1000):\n",
    "        # action_list = list(range(i%9+1))\n",
    "        S_array_2d = np.array(S).reshape(sqrt_n_a, sqrt_n_a)\n",
    "        X_in_stack = tictactoe.get_X_in_stack(N_A, sqrt_n_a, np.array(action_list), S_array_2d)"
   ]
  },
  {
   "cell_type": "code",
   "execution_count": 4,
   "metadata": {},
   "outputs": [],
   "source": [
    "def foo_numba():\n",
    "    for i in range(1000):\n",
    "        action_list = list(range(i%9+1))\n",
    "        S_array_2d = np.array(S).reshape(sqrt_n_a, sqrt_n_a)\n",
    "        X_in_stack = tictactoe.get_X_in_stack_numba(N_A, sqrt_n_a, np.array(action_list), S_array_2d)\n",
    "        \n",
    "def foo():\n",
    "    for i in range(1000):\n",
    "        action_list = list(range(i%9+1))\n",
    "        S_array_2d = np.array(S).reshape(sqrt_n_a, sqrt_n_a)\n",
    "        X_in_stack = tictactoe.get_X_in_stack(N_A, sqrt_n_a, np.array(action_list), S_array_2d)"
   ]
  },
  {
   "cell_type": "code",
   "execution_count": 13,
   "metadata": {},
   "outputs": [
    {
     "name": "stdout",
     "output_type": "stream",
     "text": [
      "CPU times: user 32.4 ms, sys: 6.33 ms, total: 38.8 ms\n",
      "Wall time: 34.1 ms\n"
     ]
    }
   ],
   "source": [
    "%time foo_1()"
   ]
  },
  {
   "cell_type": "code",
   "execution_count": 14,
   "metadata": {},
   "outputs": [
    {
     "name": "stdout",
     "output_type": "stream",
     "text": [
      "CPU times: user 6.98 ms, sys: 64 µs, total: 7.04 ms\n",
      "Wall time: 7.01 ms\n"
     ]
    }
   ],
   "source": [
    "%time foo_numba_1()"
   ]
  },
  {
   "cell_type": "code",
   "execution_count": 15,
   "metadata": {},
   "outputs": [
    {
     "name": "stdout",
     "output_type": "stream",
     "text": [
      "CPU times: user 30.4 ms, sys: 11 ms, total: 41.4 ms\n",
      "Wall time: 32.3 ms\n"
     ]
    }
   ],
   "source": [
    "%time foo()"
   ]
  },
  {
   "cell_type": "code",
   "execution_count": 16,
   "metadata": {},
   "outputs": [
    {
     "name": "stdout",
     "output_type": "stream",
     "text": [
      "CPU times: user 7.12 ms, sys: 288 µs, total: 7.41 ms\n",
      "Wall time: 7.15 ms\n"
     ]
    }
   ],
   "source": [
    "%time foo_numba()"
   ]
  },
  {
   "cell_type": "code",
   "execution_count": 17,
   "metadata": {},
   "outputs": [
    {
     "data": {
      "text/plain": [
       "98.90625"
      ]
     },
     "execution_count": 17,
     "metadata": {},
     "output_type": "execute_result"
    }
   ],
   "source": [
    "6.33 * 1000 / 64"
   ]
  },
  {
   "cell_type": "code",
   "execution_count": 18,
   "metadata": {},
   "outputs": [
    {
     "data": {
      "text/plain": [
       "38.19444444444444"
      ]
     },
     "execution_count": 18,
     "metadata": {},
     "output_type": "execute_result"
    }
   ],
   "source": [
    "11 * 1000 / 288"
   ]
  },
  {
   "cell_type": "code",
   "execution_count": null,
   "metadata": {},
   "outputs": [],
   "source": []
  }
 ],
 "metadata": {
  "kernelspec": {
   "display_name": "tf2",
   "language": "python",
   "name": "tf2"
  },
  "language_info": {
   "codemirror_mode": {
    "name": "ipython",
    "version": 3
   },
   "file_extension": ".py",
   "mimetype": "text/x-python",
   "name": "python",
   "nbconvert_exporter": "python",
   "pygments_lexer": "ipython3",
   "version": "3.7.4"
  }
 },
 "nbformat": 4,
 "nbformat_minor": 4
}
