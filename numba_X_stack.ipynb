{
 "cells": [
  {
   "cell_type": "code",
   "execution_count": 1,
   "metadata": {},
   "outputs": [],
   "source": [
    "%load_ext autoreload\n",
    "%autoreload 2\n",
    "import tictactoe\n",
    "import cProfile\n",
    "import numpy as np\n",
    "import math"
   ]
  },
  {
   "cell_type": "code",
   "execution_count": 2,
   "metadata": {},
   "outputs": [],
   "source": [
    "S = [0]*9\n",
    "action_list = [0,1,2,3,4,5]\n",
    "N_A = 9\n",
    "sqrt_n_a = int(math.sqrt(N_A))"
   ]
  },
  {
   "cell_type": "code",
   "execution_count": 3,
   "metadata": {},
   "outputs": [],
   "source": [
    "def foo_numba_1():\n",
    "    for i in range(1000):\n",
    "        # action_list = list(range(i%9+1))\n",
    "        S_array_2d = np.array(S).reshape(sqrt_n_a, sqrt_n_a)\n",
    "        X_in_stack = tictactoe.get_X_in_stack_numba(N_A, sqrt_n_a, np.array(action_list), S_array_2d)\n",
    "        \n",
    "def foo_1():\n",
    "    for i in range(1000):\n",
    "        # action_list = list(range(i%9+1))\n",
    "        S_array_2d = np.array(S).reshape(sqrt_n_a, sqrt_n_a)\n",
    "        X_in_stack = tictactoe.get_X_in_stack(N_A, sqrt_n_a, np.array(action_list), S_array_2d)"
   ]
  },
  {
   "cell_type": "code",
   "execution_count": 4,
   "metadata": {},
   "outputs": [],
   "source": [
    "def foo_numba():\n",
    "    for i in range(1000):\n",
    "        action_list = list(range(i%9+1))\n",
    "        S_array_2d = np.array(S).reshape(sqrt_n_a, sqrt_n_a)\n",
    "        X_in_stack = tictactoe.get_X_in_stack_numba(N_A, sqrt_n_a, np.array(action_list), S_array_2d)\n",
    "        \n",
    "def foo():\n",
    "    for i in range(1000):\n",
    "        action_list = list(range(i%9+1))\n",
    "        S_array_2d = np.array(S).reshape(sqrt_n_a, sqrt_n_a)\n",
    "        X_in_stack = tictactoe.get_X_in_stack(N_A, sqrt_n_a, np.array(action_list), S_array_2d)"
   ]
  },
  {
   "cell_type": "code",
   "execution_count": 35,
   "metadata": {},
   "outputs": [
    {
     "name": "stdout",
     "output_type": "stream",
     "text": [
      "CPU times: user 18.9 ms, sys: 8.18 ms, total: 27.1 ms\n",
      "Wall time: 21.4 ms\n"
     ]
    }
   ],
   "source": [
    "%time foo_1()"
   ]
  },
  {
   "cell_type": "code",
   "execution_count": 36,
   "metadata": {},
   "outputs": [
    {
     "name": "stdout",
     "output_type": "stream",
     "text": [
      "CPU times: user 4.39 ms, sys: 1e+03 ns, total: 4.39 ms\n",
      "Wall time: 4.39 ms\n"
     ]
    }
   ],
   "source": [
    "%time foo_numba_1()"
   ]
  },
  {
   "cell_type": "code",
   "execution_count": 29,
   "metadata": {},
   "outputs": [
    {
     "name": "stdout",
     "output_type": "stream",
     "text": [
      "CPU times: user 13.7 ms, sys: 1.62 ms, total: 15.3 ms\n",
      "Wall time: 14 ms\n"
     ]
    }
   ],
   "source": [
    "%time foo()"
   ]
  },
  {
   "cell_type": "code",
   "execution_count": 30,
   "metadata": {},
   "outputs": [
    {
     "name": "stdout",
     "output_type": "stream",
     "text": [
      "CPU times: user 4.96 ms, sys: 20 µs, total: 4.98 ms\n",
      "Wall time: 4.99 ms\n"
     ]
    }
   ],
   "source": [
    "%time foo_numba()"
   ]
  },
  {
   "cell_type": "code",
   "execution_count": null,
   "metadata": {},
   "outputs": [],
   "source": []
  }
 ],
 "metadata": {
  "kernelspec": {
   "display_name": "tf2",
   "language": "python",
   "name": "tf2"
  },
  "language_info": {
   "codemirror_mode": {
    "name": "ipython",
    "version": 3
   },
   "file_extension": ".py",
   "mimetype": "text/x-python",
   "name": "python",
   "nbconvert_exporter": "python",
   "pygments_lexer": "ipython3",
   "version": "3.7.4"
  }
 },
 "nbformat": 4,
 "nbformat_minor": 4
}
