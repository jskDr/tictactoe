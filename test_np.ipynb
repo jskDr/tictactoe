{
 "cells": [
  {
   "cell_type": "code",
   "execution_count": 1,
   "metadata": {},
   "outputs": [],
   "source": [
    "import numpy as np\n",
    "from numba import jit"
   ]
  },
  {
   "cell_type": "code",
   "execution_count": 4,
   "metadata": {},
   "outputs": [],
   "source": [
    "X = np.array([{'a':1, 'b':2}]*10*10).reshape(10,10)"
   ]
  },
  {
   "cell_type": "code",
   "execution_count": 6,
   "metadata": {},
   "outputs": [
    {
     "data": {
      "text/plain": [
       "(10, 10)"
      ]
     },
     "execution_count": 6,
     "metadata": {},
     "output_type": "execute_result"
    }
   ],
   "source": [
    "X.shape"
   ]
  },
  {
   "cell_type": "code",
   "execution_count": 10,
   "metadata": {},
   "outputs": [],
   "source": [
    "X = np.zeros((10,10),dtype=np.object)"
   ]
  },
  {
   "cell_type": "code",
   "execution_count": 11,
   "metadata": {},
   "outputs": [],
   "source": [
    "X.fill([])"
   ]
  },
  {
   "cell_type": "code",
   "execution_count": 12,
   "metadata": {},
   "outputs": [
    {
     "data": {
      "text/plain": [
       "array([[list([]), list([]), list([]), list([]), list([]), list([]),\n",
       "        list([]), list([]), list([]), list([])],\n",
       "       [list([]), list([]), list([]), list([]), list([]), list([]),\n",
       "        list([]), list([]), list([]), list([])],\n",
       "       [list([]), list([]), list([]), list([]), list([]), list([]),\n",
       "        list([]), list([]), list([]), list([])],\n",
       "       [list([]), list([]), list([]), list([]), list([]), list([]),\n",
       "        list([]), list([]), list([]), list([])],\n",
       "       [list([]), list([]), list([]), list([]), list([]), list([]),\n",
       "        list([]), list([]), list([]), list([])],\n",
       "       [list([]), list([]), list([]), list([]), list([]), list([]),\n",
       "        list([]), list([]), list([]), list([])],\n",
       "       [list([]), list([]), list([]), list([]), list([]), list([]),\n",
       "        list([]), list([]), list([]), list([])],\n",
       "       [list([]), list([]), list([]), list([]), list([]), list([]),\n",
       "        list([]), list([]), list([]), list([])],\n",
       "       [list([]), list([]), list([]), list([]), list([]), list([]),\n",
       "        list([]), list([]), list([]), list([])],\n",
       "       [list([]), list([]), list([]), list([]), list([]), list([]),\n",
       "        list([]), list([]), list([]), list([])]], dtype=object)"
      ]
     },
     "execution_count": 12,
     "metadata": {},
     "output_type": "execute_result"
    }
   ],
   "source": [
    "X"
   ]
  },
  {
   "cell_type": "code",
   "execution_count": 13,
   "metadata": {},
   "outputs": [],
   "source": [
    "X[0,0].append(1)"
   ]
  },
  {
   "cell_type": "code",
   "execution_count": 14,
   "metadata": {},
   "outputs": [
    {
     "data": {
      "text/plain": [
       "array([[list([1]), list([1]), list([1]), list([1]), list([1]), list([1]),\n",
       "        list([1]), list([1]), list([1]), list([1])],\n",
       "       [list([1]), list([1]), list([1]), list([1]), list([1]), list([1]),\n",
       "        list([1]), list([1]), list([1]), list([1])],\n",
       "       [list([1]), list([1]), list([1]), list([1]), list([1]), list([1]),\n",
       "        list([1]), list([1]), list([1]), list([1])],\n",
       "       [list([1]), list([1]), list([1]), list([1]), list([1]), list([1]),\n",
       "        list([1]), list([1]), list([1]), list([1])],\n",
       "       [list([1]), list([1]), list([1]), list([1]), list([1]), list([1]),\n",
       "        list([1]), list([1]), list([1]), list([1])],\n",
       "       [list([1]), list([1]), list([1]), list([1]), list([1]), list([1]),\n",
       "        list([1]), list([1]), list([1]), list([1])],\n",
       "       [list([1]), list([1]), list([1]), list([1]), list([1]), list([1]),\n",
       "        list([1]), list([1]), list([1]), list([1])],\n",
       "       [list([1]), list([1]), list([1]), list([1]), list([1]), list([1]),\n",
       "        list([1]), list([1]), list([1]), list([1])],\n",
       "       [list([1]), list([1]), list([1]), list([1]), list([1]), list([1]),\n",
       "        list([1]), list([1]), list([1]), list([1])],\n",
       "       [list([1]), list([1]), list([1]), list([1]), list([1]), list([1]),\n",
       "        list([1]), list([1]), list([1]), list([1])]], dtype=object)"
      ]
     },
     "execution_count": 14,
     "metadata": {},
     "output_type": "execute_result"
    }
   ],
   "source": [
    "X"
   ]
  },
  {
   "cell_type": "code",
   "execution_count": null,
   "metadata": {},
   "outputs": [],
   "source": []
  }
 ],
 "metadata": {
  "kernelspec": {
   "display_name": "tf2",
   "language": "python",
   "name": "tf2"
  },
  "language_info": {
   "codemirror_mode": {
    "name": "ipython",
    "version": 3
   },
   "file_extension": ".py",
   "mimetype": "text/x-python",
   "name": "python",
   "nbconvert_exporter": "python",
   "pygments_lexer": "ipython3",
   "version": "3.7.7"
  }
 },
 "nbformat": 4,
 "nbformat_minor": 4
}
